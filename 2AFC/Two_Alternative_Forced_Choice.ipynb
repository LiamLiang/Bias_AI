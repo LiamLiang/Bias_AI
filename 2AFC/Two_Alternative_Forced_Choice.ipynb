{
 "cells": [
  {
   "cell_type": "markdown",
   "metadata": {},
   "source": [
    "# Artificial mental phenomena: Psychophysics as a framework to detect perception biases in AI models"
   ]
  },
  {
   "cell_type": "markdown",
   "metadata": {},
   "source": [
    "Lizhen Liang and Daniel E. Acuna  \n",
    "School of Information Studies      \n",
    "Syracuse University  \n",
    "Science of Science & Computational Discovery Lab  \n",
    "Syracuse, New York"
   ]
  },
  {
   "cell_type": "markdown",
   "metadata": {},
   "source": [
    "## Part 1: Two Alternative Forced Choice"
   ]
  },
  {
   "cell_type": "markdown",
   "metadata": {},
   "source": [
    "Load Spark & Load Packages"
   ]
  },
  {
   "cell_type": "code",
   "execution_count": 1,
   "metadata": {},
   "outputs": [],
   "source": [
    "import os\n",
    "import findspark\n",
    "\n",
    "os.environ['PATH'] = os.environ['PATH'] + \":/usr/java/jdk1.8.0_162/bin\"\n",
    "\n",
    "import findspark\n",
    "os.environ['PYSPARK_SUBMIT_ARGS'] = \\\n",
    "    \"--packages com.databricks:spark-xml_2.11:0.5.0 pyspark-shell\"\n",
    "findspark.init('/opt/cloudera/parcels/SPARK2/lib/spark2/')\n",
    "\n",
    "from pyspark.sql import SparkSession\n",
    "\n",
    "spark = SparkSession.builder.\\\n",
    "    appName('Bias').\\\n",
    "    config('spark.driver.memory', '10g').\\\n",
    "    config('spark.network.timeout', '600s').\\\n",
    "    config('spark.driver.maxResultSize', '10g').\\\n",
    "    config('spark.executor.memory', '10g').\\\n",
    "    config('spark.kryoserializer.buffer.max', '1g').getOrCreate()\n",
    "\n",
    "sc = spark.sparkContext"
   ]
  },
  {
   "cell_type": "code",
   "execution_count": 2,
   "metadata": {},
   "outputs": [],
   "source": [
    "from pyspark.ml import feature, regression, evaluation, Pipeline\n",
    "from pyspark.sql import functions as fn"
   ]
  },
  {
   "cell_type": "code",
   "execution_count": 3,
   "metadata": {},
   "outputs": [],
   "source": [
    "import numpy as np\n",
    "import pandas as pd\n",
    "import matplotlib.pyplot as plt\n",
    "import pickle"
   ]
  },
  {
   "cell_type": "code",
   "execution_count": 4,
   "metadata": {},
   "outputs": [],
   "source": [
    "from gensim.test.utils import datapath, get_tmpfile\n",
    "from gensim.models import KeyedVectors\n",
    "from gensim.scripts.glove2word2vec import glove2word2vec"
   ]
  },
  {
   "cell_type": "markdown",
   "metadata": {},
   "source": [
    "Load Data & Load Models"
   ]
  },
  {
   "cell_type": "markdown",
   "metadata": {},
   "source": [
    "Using wiki dataset, we have bootstrapped 32 GloVe word embeddings models. "
   ]
  },
  {
   "cell_type": "markdown",
   "metadata": {},
   "source": [
    "Loading the models"
   ]
  },
  {
   "cell_type": "code",
   "execution_count": 7,
   "metadata": {},
   "outputs": [],
   "source": [
    "models = []\n",
    "for i in range(2, 10):\n",
    "    for j in range(0, 4):\n",
    "        models.append(KeyedVectors.load_word2vec_format(\"/home/lliang06/Bias_paper/w2v_\" + str(i) + str(j) + \".txt\"))"
   ]
  },
  {
   "cell_type": "code",
   "execution_count": 9,
   "metadata": {},
   "outputs": [],
   "source": [
    "# The number of word2vec models, in our case, 32\n",
    "num_models = len(models)"
   ]
  },
  {
   "cell_type": "markdown",
   "metadata": {},
   "source": [
    "### 2AFC Experiment"
   ]
  },
  {
   "cell_type": "code",
   "execution_count": 10,
   "metadata": {},
   "outputs": [],
   "source": [
    "from scipy.spatial.distance import cosine"
   ]
  },
  {
   "cell_type": "code",
   "execution_count": 11,
   "metadata": {},
   "outputs": [],
   "source": [
    "def similarity(x, y):\n",
    "    return 1 - cosine(x, y)"
   ]
  },
  {
   "cell_type": "code",
   "execution_count": 12,
   "metadata": {},
   "outputs": [],
   "source": [
    "# run experiment\n",
    "def twoafc_experiment(left_embedding, right_embedding, target_embeddings):\n",
    "    decisions = []\n",
    "    for embedding in target_embeddings:\n",
    "        for idx in range(0, 100, 1):\n",
    "            alpha = idx/100\n",
    "            # woman*n*(1-alpha) man*n*alpha great ____\n",
    "            left_score = (1-alpha) + \\\n",
    "                alpha*similarity(left_embedding, right_embedding) + \\\n",
    "                similarity(left_embedding, embedding)\n",
    "            right_score = (1-alpha)*similarity(right_embedding, left_embedding) + \\\n",
    "                alpha + \\\n",
    "                + similarity(right_embedding, embedding)\n",
    "            d = int(right_score > left_score)\n",
    "            decisions.append([alpha, d])\n",
    "    return pd.DataFrame(np.array(decisions), columns=['alpha', 'd'])"
   ]
  },
  {
   "cell_type": "code",
   "execution_count": 13,
   "metadata": {},
   "outputs": [],
   "source": [
    "def bisect_search(left_word, right_word, target_word, model, delta_alpha=1/100):\n",
    "    left_token = model.wv.get_vector(left_word)\n",
    "    right_roken = model.wv.get_vector(right_word)\n",
    "    target_token = model.wv.get_vector(target_word)\n",
    "    min_alpha = 0\n",
    "    max_alpha = 1\n",
    "    c = 0\n",
    "    def eval_alpha(alpha):\n",
    "        left_score = (1-alpha) + \\\n",
    "                alpha*similarity(left_token, right_roken) + \\\n",
    "                similarity(left_token, target_token)\n",
    "        right_score = (1-alpha)*similarity(right_roken, left_token) + \\\n",
    "            alpha + \\\n",
    "            + similarity(right_roken, target_token)\n",
    "        return left_score, right_score\n",
    "    \n",
    "    while (max_alpha-min_alpha) > delta_alpha:\n",
    "        min_left_score, min_right_score = eval_alpha(min_alpha)\n",
    "        min_alpha_d = int(min_right_score > min_left_score)\n",
    "        max_left_score, max_right_score = eval_alpha(max_alpha)\n",
    "        max_alpha_d = int(max_right_score > max_left_score)\n",
    "        \n",
    "        middle_left_score, middle_right_score = eval_alpha((min_alpha + max_alpha)/2)\n",
    "        middle_alpha_d = int(middle_right_score > middle_left_score)        \n",
    "\n",
    "        if middle_alpha_d != min_alpha_d:\n",
    "            max_alpha = (min_alpha + max_alpha) / 2\n",
    "        elif middle_alpha_d != max_alpha_d :\n",
    "            min_alpha = (min_alpha + max_alpha) / 2\n",
    "        else:\n",
    "            break\n",
    "        c += 1\n",
    "        if c > 10:\n",
    "            break\n",
    "    return (min_alpha + max_alpha) / 2"
   ]
  },
  {
   "cell_type": "code",
   "execution_count": 14,
   "metadata": {},
   "outputs": [
    {
     "name": "stderr",
     "output_type": "stream",
     "text": [
      "/home/tozeng/anaconda3/lib/python3.7/site-packages/ipykernel_launcher.py:3: DeprecationWarning: Call to deprecated `wv` (Attribute will be removed in 4.0.0, use self instead).\n",
      "  This is separate from the ipykernel package so we can avoid doing imports until\n",
      "/home/tozeng/anaconda3/lib/python3.7/site-packages/ipykernel_launcher.py:4: DeprecationWarning: Call to deprecated `wv` (Attribute will be removed in 4.0.0, use self instead).\n",
      "  after removing the cwd from sys.path.\n",
      "/home/tozeng/anaconda3/lib/python3.7/site-packages/ipykernel_launcher.py:5: DeprecationWarning: Call to deprecated `wv` (Attribute will be removed in 4.0.0, use self instead).\n",
      "  \"\"\"\n"
     ]
    },
    {
     "data": {
      "image/png": "[encoded data removed]",
      "text/plain": [
       "<Figure size 216x108 with 1 Axes>"
      ]
     },
     "metadata": {
      "needs_background": "light"
     },
     "output_type": "display_data"
    }
   ],
   "source": [
    "plt.figure(figsize=(3, 1.5))\n",
    "for i in range(32):\n",
    "    d = twoafc_experiment(models[i].wv.get_vector('woman'), \n",
    "                      models[i].wv.get_vector('man'),\n",
    "                      [models[i].wv.get_vector('electrician')])\n",
    "    plt.plot(d['alpha'], d['d'], 'b', alpha=0.1, linewidth=2);\n",
    "plt.gca().tick_params(axis='both', which='major', labelsize=7)\n",
    "plt.xticks([0, 0.5, 1], ['100% female', '50% female\\n50% male', '100% male']);\n",
    "plt.yticks([0, 0.5, 1], ['Female', '', 'Male']);\n",
    "plt.xlabel('Stimulus', fontsize=10);\n",
    "plt.ylabel('Response', fontsize=10);\n",
    "plt.title('Gender of electrician?', fontsize=10);\n",
    "plt.gca().spines['right'].set_visible(False)\n",
    "plt.gca().spines['top'].set_visible(False)\n",
    "# Only show ticks on the left and bottom spines\n",
    "plt.gca().yaxis.set_ticks_position('left')\n",
    "plt.gca().xaxis.set_ticks_position('bottom')\n",
    "plt.tight_layout(pad=0.4, w_pad=0.5, h_pad=1.0)\n",
    "plt.savefig('./2afc_example.pdf')"
   ]
  },
  {
   "cell_type": "markdown",
   "metadata": {},
   "source": [
    "## Occupation"
   ]
  },
  {
   "cell_type": "code",
   "execution_count": 15,
   "metadata": {},
   "outputs": [],
   "source": [
    "def process_string_to_list(s):\n",
    "    return s.replace(' ', '').replace('\\n', '').split(',')"
   ]
  },
  {
   "cell_type": "markdown",
   "metadata": {},
   "source": [
    "From Bureau Labor Statistics, we found catagories of occupations. From those categories we picked 50 occupations that are representative. "
   ]
  },
  {
   "cell_type": "code",
   "execution_count": 16,
   "metadata": {},
   "outputs": [],
   "source": [
    "careers = process_string_to_list(\n",
    "\"\"\"\n",
    "technician, accountant, supervisor, engineer, worker, educator, clerk, counselor,\n",
    "inspector, mechanic, manager, therapist, administrator, salesperson, receptionist, librarian,\n",
    "advisor, pharmacist, janitor, psychologist, physician, carpenter, nurse, investigator,\n",
    "bartender, specialist, electrician, officer, pathologist, teacher, lawyer, planner, practitioner,\n",
    "plumber, instructor, surgeon, veterinarian, paramedic, examiner, chemist, machinist,\n",
    "appraiser, nutritionist, architect, hairdresser, baker, programmer, paralegal, hygienist,\n",
    "scientist\"\"\")"
   ]
  },
  {
   "cell_type": "markdown",
   "metadata": {},
   "source": [
    "We want to compare occupations and two pairs of contradictory concepts: love vs. hate and woman vs. man to see if we can detect any biases from the PSE."
   ]
  },
  {
   "cell_type": "code",
   "execution_count": 17,
   "metadata": {},
   "outputs": [],
   "source": [
    "male = ['man', 'male', 'he', 'his', 'him', 'boy', 'brother', 'son']\n",
    "female = ['woman', 'female', 'she', 'her', 'hers', 'girl', 'sister', 'daughter']"
   ]
  },
  {
   "cell_type": "code",
   "execution_count": 18,
   "metadata": {},
   "outputs": [],
   "source": [
    "gender_pairs = []\n",
    "gender_pairs.append(['woman', 'man'])\n",
    "gender_pairs.append(['female', 'male'])\n",
    "gender_pairs.append(['she', 'he'])\n",
    "gender_pairs.append(['her', 'him'])\n",
    "gender_pairs.append(['hers', 'his'])\n",
    "gender_pairs.append(['daughter', 'son'])\n",
    "gender_pairs.append(['girl', 'boy'])\n",
    "gender_pairs.append(['sister', 'brother'])"
   ]
  },
  {
   "cell_type": "code",
   "execution_count": 19,
   "metadata": {},
   "outputs": [],
   "source": [
    "gender_dict = {}\n",
    "gender_dict['career'] = []\n",
    "gender_dict['Left'] = []\n",
    "gender_dict['Right'] = []\n",
    "for i in range(num_models):\n",
    "    gender_dict['pse_' + str(i)] = []\n",
    "for n in careers:\n",
    "    for pair in gender_pairs:\n",
    "        gender_dict['Left'].append(pair[0])\n",
    "        gender_dict['Right'].append(pair[1])\n",
    "        gender_dict['career'].append(n)\n",
    "        for i in range(32):\n",
    "            gender_dict['pse_' + str(i)].append(None)\n",
    "handpicked_gender_pse = pd.DataFrame(gender_dict)"
   ]
  },
  {
   "cell_type": "code",
   "execution_count": 20,
   "metadata": {},
   "outputs": [],
   "source": [
    "R, C = handpicked_gender_pse.shape"
   ]
  },
  {
   "cell_type": "code",
   "execution_count": 21,
   "metadata": {},
   "outputs": [
    {
     "name": "stderr",
     "output_type": "stream",
     "text": [
      "/home/tozeng/anaconda3/lib/python3.7/site-packages/ipykernel_launcher.py:2: DeprecationWarning: Call to deprecated `wv` (Attribute will be removed in 4.0.0, use self instead).\n",
      "  \n",
      "/home/tozeng/anaconda3/lib/python3.7/site-packages/ipykernel_launcher.py:3: DeprecationWarning: Call to deprecated `wv` (Attribute will be removed in 4.0.0, use self instead).\n",
      "  This is separate from the ipykernel package so we can avoid doing imports until\n",
      "/home/tozeng/anaconda3/lib/python3.7/site-packages/ipykernel_launcher.py:4: DeprecationWarning: Call to deprecated `wv` (Attribute will be removed in 4.0.0, use self instead).\n",
      "  after removing the cwd from sys.path.\n"
     ]
    }
   ],
   "source": [
    "for i in range(R):\n",
    "    for j in range(num_models):\n",
    "        n = handpicked_gender_pse.loc[i]['career']\n",
    "        l = handpicked_gender_pse.loc[i]['Left']\n",
    "        r = handpicked_gender_pse.loc[i]['Right']\n",
    "        handpicked_gender_pse.loc[i]['pse_'+str(j)] = int(100*bisect_search(l, r, n, models[j], delta_alpha=1/100))"
   ]
  },
  {
   "cell_type": "code",
   "execution_count": 22,
   "metadata": {},
   "outputs": [],
   "source": [
    "handpicked_gender_pse['mean'] = handpicked_gender_pse.loc[:][['pse_0', 'pse_1', 'pse_2', 'pse_3', 'pse_4', 'pse_5', 'pse_6', 'pse_7', 'pse_8', 'pse_9', \n",
    "                         'pse_10', 'pse_11', 'pse_12', 'pse_13', 'pse_14', 'pse_15', 'pse_16', 'pse_17', 'pse_18', \n",
    "                         'pse_19', 'pse_20', 'pse_21', 'pse_22', 'pse_23', 'pse_24', 'pse_25', 'pse_26', 'pse_27',\n",
    "                         'pse_28', 'pse_29', 'pse_30', 'pse_31']].mean(axis = 1)\n",
    "\n",
    "handpicked_gender_pse['std'] = handpicked_gender_pse.loc[:][['pse_0', 'pse_1', 'pse_2', 'pse_3', 'pse_4', 'pse_5', 'pse_6', 'pse_7', 'pse_8', 'pse_9', \n",
    "                         'pse_10', 'pse_11', 'pse_12', 'pse_13', 'pse_14', 'pse_15', 'pse_16', 'pse_17', 'pse_18', \n",
    "                         'pse_19', 'pse_20', 'pse_21', 'pse_22', 'pse_23', 'pse_24', 'pse_25', 'pse_26', 'pse_27',\n",
    "                         'pse_28', 'pse_29', 'pse_30', 'pse_31']].std(axis = 1)"
   ]
  },
  {
   "cell_type": "code",
   "execution_count": 23,
   "metadata": {
    "scrolled": true
   },
   "outputs": [],
   "source": [
    "avg_mean_std = handpicked_gender_pse[['career', 'mean', 'std']].groupby(['career']).mean()"
   ]
  },
  {
   "cell_type": "code",
   "execution_count": 24,
   "metadata": {},
   "outputs": [
    {
     "data": {
      "text/html": [
       "<div>\n",
       "<style scoped>\n",
       "    .dataframe tbody tr th:only-of-type {\n",
       "        vertical-align: middle;\n",
       "    }\n",
       "\n",
       "    .dataframe tbody tr th {\n",
       "        vertical-align: top;\n",
       "    }\n",
       "\n",
       "    .dataframe thead th {\n",
       "        text-align: right;\n",
       "    }\n",
       "</style>\n",
       "<table border=\"1\" class=\"dataframe\">\n",
       "  <thead>\n",
       "    <tr style=\"text-align: right;\">\n",
       "      <th></th>\n",
       "      <th>mean</th>\n",
       "      <th>std</th>\n",
       "    </tr>\n",
       "    <tr>\n",
       "      <th>career</th>\n",
       "      <th></th>\n",
       "      <th></th>\n",
       "    </tr>\n",
       "  </thead>\n",
       "  <tbody>\n",
       "    <tr>\n",
       "      <td>accountant</td>\n",
       "      <td>37.253906</td>\n",
       "      <td>6.353868</td>\n",
       "    </tr>\n",
       "    <tr>\n",
       "      <td>administrator</td>\n",
       "      <td>30.433594</td>\n",
       "      <td>11.356400</td>\n",
       "    </tr>\n",
       "    <tr>\n",
       "      <td>advisor</td>\n",
       "      <td>29.757812</td>\n",
       "      <td>10.059517</td>\n",
       "    </tr>\n",
       "    <tr>\n",
       "      <td>appraiser</td>\n",
       "      <td>45.941406</td>\n",
       "      <td>9.560056</td>\n",
       "    </tr>\n",
       "    <tr>\n",
       "      <td>architect</td>\n",
       "      <td>32.062500</td>\n",
       "      <td>8.372463</td>\n",
       "    </tr>\n",
       "  </tbody>\n",
       "</table>\n",
       "</div>"
      ],
      "text/plain": [
       "                    mean        std\n",
       "career                             \n",
       "accountant     37.253906   6.353868\n",
       "administrator  30.433594  11.356400\n",
       "advisor        29.757812  10.059517\n",
       "appraiser      45.941406   9.560056\n",
       "architect      32.062500   8.372463"
      ]
     },
     "execution_count": 24,
     "metadata": {},
     "output_type": "execute_result"
    }
   ],
   "source": [
    "avg_mean_std.head()"
   ]
  },
  {
   "cell_type": "code",
   "execution_count": 25,
   "metadata": {},
   "outputs": [],
   "source": [
    "allpairs_avg = handpicked_gender_pse.loc[:, ['career', 'Left', 'Right', 'mean', 'std']]"
   ]
  },
  {
   "cell_type": "code",
   "execution_count": 26,
   "metadata": {},
   "outputs": [
    {
     "data": {
      "text/html": [
       "<div>\n",
       "<style scoped>\n",
       "    .dataframe tbody tr th:only-of-type {\n",
       "        vertical-align: middle;\n",
       "    }\n",
       "\n",
       "    .dataframe tbody tr th {\n",
       "        vertical-align: top;\n",
       "    }\n",
       "\n",
       "    .dataframe thead th {\n",
       "        text-align: right;\n",
       "    }\n",
       "</style>\n",
       "<table border=\"1\" class=\"dataframe\">\n",
       "  <thead>\n",
       "    <tr style=\"text-align: right;\">\n",
       "      <th></th>\n",
       "      <th>career</th>\n",
       "      <th>Left</th>\n",
       "      <th>Right</th>\n",
       "      <th>mean</th>\n",
       "      <th>std</th>\n",
       "    </tr>\n",
       "  </thead>\n",
       "  <tbody>\n",
       "    <tr>\n",
       "      <td>0</td>\n",
       "      <td>technician</td>\n",
       "      <td>woman</td>\n",
       "      <td>man</td>\n",
       "      <td>19.25000</td>\n",
       "      <td>5.690966</td>\n",
       "    </tr>\n",
       "    <tr>\n",
       "      <td>1</td>\n",
       "      <td>technician</td>\n",
       "      <td>female</td>\n",
       "      <td>male</td>\n",
       "      <td>52.46875</td>\n",
       "      <td>9.951445</td>\n",
       "    </tr>\n",
       "    <tr>\n",
       "      <td>2</td>\n",
       "      <td>technician</td>\n",
       "      <td>she</td>\n",
       "      <td>he</td>\n",
       "      <td>49.21875</td>\n",
       "      <td>5.580695</td>\n",
       "    </tr>\n",
       "    <tr>\n",
       "      <td>3</td>\n",
       "      <td>technician</td>\n",
       "      <td>her</td>\n",
       "      <td>him</td>\n",
       "      <td>56.71875</td>\n",
       "      <td>4.622765</td>\n",
       "    </tr>\n",
       "    <tr>\n",
       "      <td>4</td>\n",
       "      <td>technician</td>\n",
       "      <td>hers</td>\n",
       "      <td>his</td>\n",
       "      <td>17.68750</td>\n",
       "      <td>3.946722</td>\n",
       "    </tr>\n",
       "  </tbody>\n",
       "</table>\n",
       "</div>"
      ],
      "text/plain": [
       "       career    Left Right      mean       std\n",
       "0  technician   woman   man  19.25000  5.690966\n",
       "1  technician  female  male  52.46875  9.951445\n",
       "2  technician     she    he  49.21875  5.580695\n",
       "3  technician     her   him  56.71875  4.622765\n",
       "4  technician    hers   his  17.68750  3.946722"
      ]
     },
     "execution_count": 26,
     "metadata": {},
     "output_type": "execute_result"
    }
   ],
   "source": [
    "allpairs_avg.head()"
   ]
  },
  {
   "cell_type": "code",
   "execution_count": 27,
   "metadata": {},
   "outputs": [
    {
     "name": "stderr",
     "output_type": "stream",
     "text": [
      "/home/tozeng/anaconda3/lib/python3.7/site-packages/ipykernel_launcher.py:3: SettingWithCopyWarning: \n",
      "A value is trying to be set on a copy of a slice from a DataFrame\n",
      "\n",
      "See the caveats in the documentation: http://pandas.pydata.org/pandas-docs/stable/user_guide/indexing.html#returning-a-view-versus-a-copy\n",
      "  This is separate from the ipykernel package so we can avoid doing imports until\n"
     ]
    }
   ],
   "source": [
    "allpairs_avg['Left_Right'] = None\n",
    "for i in range(len(allpairs_avg)):\n",
    "    allpairs_avg['Left_Right'][i] = allpairs_avg['Left'][i] + '_' + allpairs_avg['Right'][i]"
   ]
  },
  {
   "cell_type": "code",
   "execution_count": 28,
   "metadata": {},
   "outputs": [],
   "source": [
    "allpairs_avg.to_csv('allcues.csv')"
   ]
  },
  {
   "cell_type": "code",
   "execution_count": 29,
   "metadata": {},
   "outputs": [],
   "source": [
    "allpairs_avg = allpairs_avg.drop(columns=['Left', 'Right'])"
   ]
  },
  {
   "cell_type": "code",
   "execution_count": 30,
   "metadata": {},
   "outputs": [],
   "source": [
    "df_avg = allpairs_avg.groupby([\"career\"]).mean()"
   ]
  },
  {
   "cell_type": "code",
   "execution_count": 31,
   "metadata": {},
   "outputs": [],
   "source": [
    "df_avg = df_avg.sort_values(by = [\"mean\"])# .iloc[::2]"
   ]
  },
  {
   "cell_type": "code",
   "execution_count": 32,
   "metadata": {
    "scrolled": false
   },
   "outputs": [
    {
     "data": {
      "image/png": "[encoded data removed]",
      "text/plain": [
       "<Figure size 576x576 with 1 Axes>"
      ]
     },
     "metadata": {
      "needs_background": "light"
     },
     "output_type": "display_data"
    }
   ],
   "source": [
    "plt.figure(figsize = (8, 8))\n",
    "plt.plot(df_avg[\"mean\"].values, df_avg.index.values, linewidth = 2, c = 'b')\n",
    "plt.scatter(x = allpairs_avg.loc[allpairs_avg['career'].isin(df_avg.index)]['mean'].values, y = allpairs_avg.loc[allpairs_avg['career'].isin(df_avg.index)]['career'].values, s = 2, alpha = 0.3, c = 'b')\n",
    "plt.gca().tick_params(axis='both', which='major', labelsize=7)\n",
    "plt.xticks([0, 50, 100], ['100% Female Attribute', '50% Female Attribute \\n 50% Male Attribute', '100% Male Attribute']);\n",
    "# plt.yticks([0, 0.5, 1], ['No', '', 'Yes']);\n",
    "plt.xlabel('PSE', fontsize=10);\n",
    "plt.ylabel('Occupation', fontsize=10);\n",
    "# plt.title('Is it a male plumber?', fontsize=14);\n",
    "plt.gca().spines['right'].set_visible(False)\n",
    "plt.gca().spines['top'].set_visible(False)\n",
    "# Only show ticks on the left and bottom spines\n",
    "plt.gca().yaxis.set_ticks_position('left')\n",
    "plt.gca().xaxis.set_ticks_position('bottom')\n",
    "plt.grid(alpha=0.3)\n",
    "plt.tight_layout(pad=0.4, w_pad=0.5, h_pad=1.0)\n",
    "plt.savefig(\"all_gender_pse_scatter_alloccupations.pdf\")"
   ]
  },
  {
   "cell_type": "code",
   "execution_count": 33,
   "metadata": {},
   "outputs": [],
   "source": [
    "df_avg = df_avg.sort_values(by = [\"std\"])"
   ]
  },
  {
   "cell_type": "code",
   "execution_count": 34,
   "metadata": {},
   "outputs": [
    {
     "data": {
      "image/png": "[encoded data removed]",
      "text/plain": [
       "<Figure size 576x576 with 1 Axes>"
      ]
     },
     "metadata": {
      "needs_background": "light"
     },
     "output_type": "display_data"
    }
   ],
   "source": [
    "plt.figure(figsize = (8, 8))\n",
    "plt.plot(df_avg[\"std\"].values, df_avg.index.values, linewidth = 2, c = 'b')\n",
    "plt.scatter(x = allpairs_avg.loc[allpairs_avg['career'].isin(df_avg.index)]['std'].values, y = allpairs_avg.loc[allpairs_avg['career'].isin(df_avg.index)]['career'].values, s = 2, alpha = 0.3, c = 'b')\n",
    "plt.gca().tick_params(axis='both', which='major', labelsize=7)\n",
    "plt.xticks([0, 20], ['0%', '20%']);\n",
    "# plt.yticks([0, 0.5, 1], ['No', '', 'Yes']);\n",
    "plt.xlabel('JND', fontsize=10);\n",
    "plt.ylabel('Occupation', fontsize=10);\n",
    "# plt.title('Is it a male plumber?', fontsize=14);\n",
    "plt.gca().spines['right'].set_visible(False)\n",
    "plt.gca().spines['top'].set_visible(False)\n",
    "# Only show ticks on the left and bottom spines\n",
    "plt.gca().yaxis.set_ticks_position('left')\n",
    "plt.gca().xaxis.set_ticks_position('bottom')\n",
    "plt.grid(alpha=0.3)\n",
    "plt.tight_layout(pad=0.4, w_pad=0.5, h_pad=1.0)\n",
    "plt.savefig(\"all_gender_jnd_scatter_alloccupations.pdf\")"
   ]
  },
  {
   "cell_type": "markdown",
   "metadata": {},
   "source": [
    "###  Correlation with the labor statistics"
   ]
  },
  {
   "cell_type": "code",
   "execution_count": 44,
   "metadata": {},
   "outputs": [],
   "source": [
    "labor_stat = pd.read_csv('professionsBLS2015.tab', sep = '\\t')"
   ]
  },
  {
   "cell_type": "code",
   "execution_count": 45,
   "metadata": {},
   "outputs": [
    {
     "data": {
      "text/html": [
       "<div>\n",
       "<style scoped>\n",
       "    .dataframe tbody tr th:only-of-type {\n",
       "        vertical-align: middle;\n",
       "    }\n",
       "\n",
       "    .dataframe tbody tr th {\n",
       "        vertical-align: top;\n",
       "    }\n",
       "\n",
       "    .dataframe thead th {\n",
       "        text-align: right;\n",
       "    }\n",
       "</style>\n",
       "<table border=\"1\" class=\"dataframe\">\n",
       "  <thead>\n",
       "    <tr style=\"text-align: right;\">\n",
       "      <th></th>\n",
       "      <th>TotalEmployed</th>\n",
       "      <th>Women</th>\n",
       "      <th>AfricanAmerican</th>\n",
       "      <th>Asian</th>\n",
       "      <th>HispanicLatino</th>\n",
       "      <th>none</th>\n",
       "      <th>label1</th>\n",
       "      <th>label2</th>\n",
       "      <th>label3</th>\n",
       "      <th>label4</th>\n",
       "      <th>label5</th>\n",
       "    </tr>\n",
       "  </thead>\n",
       "  <tbody>\n",
       "    <tr>\n",
       "      <td>0</td>\n",
       "      <td>233</td>\n",
       "      <td>0.0</td>\n",
       "      <td>4.8</td>\n",
       "      <td>1.5</td>\n",
       "      <td>14.3</td>\n",
       "      <td>NaN</td>\n",
       "      <td>mechanic</td>\n",
       "      <td>technician</td>\n",
       "      <td>NaN</td>\n",
       "      <td>NaN</td>\n",
       "      <td>NaN</td>\n",
       "    </tr>\n",
       "    <tr>\n",
       "      <td>1</td>\n",
       "      <td>345</td>\n",
       "      <td>0.1</td>\n",
       "      <td>7.5</td>\n",
       "      <td>2.6</td>\n",
       "      <td>15.8</td>\n",
       "      <td>NaN</td>\n",
       "      <td>mechanic</td>\n",
       "      <td>specialist</td>\n",
       "      <td>NaN</td>\n",
       "      <td>NaN</td>\n",
       "      <td>NaN</td>\n",
       "    </tr>\n",
       "    <tr>\n",
       "      <td>2</td>\n",
       "      <td>54</td>\n",
       "      <td>0.2</td>\n",
       "      <td>12.1</td>\n",
       "      <td>0.0</td>\n",
       "      <td>49.2</td>\n",
       "      <td>NaN</td>\n",
       "      <td>mason</td>\n",
       "      <td>finisher</td>\n",
       "      <td>worker</td>\n",
       "      <td>NaN</td>\n",
       "      <td>NaN</td>\n",
       "    </tr>\n",
       "    <tr>\n",
       "      <td>3</td>\n",
       "      <td>154</td>\n",
       "      <td>0.6</td>\n",
       "      <td>5.4</td>\n",
       "      <td>0.6</td>\n",
       "      <td>22.9</td>\n",
       "      <td>NaN</td>\n",
       "      <td>repairer</td>\n",
       "      <td>NaN</td>\n",
       "      <td>NaN</td>\n",
       "      <td>NaN</td>\n",
       "      <td>NaN</td>\n",
       "    </tr>\n",
       "    <tr>\n",
       "      <td>4</td>\n",
       "      <td>172</td>\n",
       "      <td>0.7</td>\n",
       "      <td>5.3</td>\n",
       "      <td>0.0</td>\n",
       "      <td>43.3</td>\n",
       "      <td>NaN</td>\n",
       "      <td>brickmason</td>\n",
       "      <td>blockmason</td>\n",
       "      <td>stonemason</td>\n",
       "      <td>NaN</td>\n",
       "      <td>NaN</td>\n",
       "    </tr>\n",
       "  </tbody>\n",
       "</table>\n",
       "</div>"
      ],
      "text/plain": [
       "   TotalEmployed  Women  AfricanAmerican  Asian  HispanicLatino  none  \\\n",
       "0            233    0.0              4.8    1.5            14.3   NaN   \n",
       "1            345    0.1              7.5    2.6            15.8   NaN   \n",
       "2             54    0.2             12.1    0.0            49.2   NaN   \n",
       "3            154    0.6              5.4    0.6            22.9   NaN   \n",
       "4            172    0.7              5.3    0.0            43.3   NaN   \n",
       "\n",
       "       label1      label2      label3 label4 label5  \n",
       "0    mechanic  technician         NaN    NaN    NaN  \n",
       "1    mechanic  specialist         NaN    NaN    NaN  \n",
       "2       mason    finisher      worker    NaN    NaN  \n",
       "3    repairer         NaN         NaN    NaN    NaN  \n",
       "4  brickmason  blockmason  stonemason    NaN    NaN  "
      ]
     },
     "execution_count": 45,
     "metadata": {},
     "output_type": "execute_result"
    }
   ],
   "source": [
    "labor_stat.head()"
   ]
  },
  {
   "cell_type": "code",
   "execution_count": 46,
   "metadata": {},
   "outputs": [],
   "source": [
    "df_avg = pd.read_csv('allcues.csv')"
   ]
  },
  {
   "cell_type": "code",
   "execution_count": 47,
   "metadata": {},
   "outputs": [],
   "source": [
    "df_mean = df_avg.reset_index().loc[:, ['career', 'mean', 'std']].groupby('career').mean()"
   ]
  },
  {
   "cell_type": "code",
   "execution_count": 50,
   "metadata": {},
   "outputs": [],
   "source": [
    "def std_betadist(w, n):\n",
    "    return(np.sqrt((1 - w) * w / (n + 1)))"
   ]
  },
  {
   "cell_type": "code",
   "execution_count": 48,
   "metadata": {},
   "outputs": [],
   "source": [
    "corr_df = labor_stat.merge(df_mean, left_on = 'label2', right_on = 'career').loc[:, ['TotalEmployed', 'Women', 'label1', 'mean', 'std']].groupby('label1').mean()"
   ]
  },
  {
   "cell_type": "code",
   "execution_count": 51,
   "metadata": {
    "scrolled": true
   },
   "outputs": [],
   "source": [
    "corr_df['std_betadist'] = [std_betadist(corr_df['Women'][i] / 100, corr_df['TotalEmployed'][i]) for i in corr_df.index]"
   ]
  },
  {
   "cell_type": "code",
   "execution_count": 52,
   "metadata": {
    "scrolled": true
   },
   "outputs": [
    {
     "data": {
      "text/html": [
       "<div>\n",
       "<style scoped>\n",
       "    .dataframe tbody tr th:only-of-type {\n",
       "        vertical-align: middle;\n",
       "    }\n",
       "\n",
       "    .dataframe tbody tr th {\n",
       "        vertical-align: top;\n",
       "    }\n",
       "\n",
       "    .dataframe thead th {\n",
       "        text-align: right;\n",
       "    }\n",
       "</style>\n",
       "<table border=\"1\" class=\"dataframe\">\n",
       "  <thead>\n",
       "    <tr style=\"text-align: right;\">\n",
       "      <th></th>\n",
       "      <th>TotalEmployed</th>\n",
       "      <th>Women</th>\n",
       "      <th>mean</th>\n",
       "      <th>std</th>\n",
       "      <th>std_betadist</th>\n",
       "    </tr>\n",
       "    <tr>\n",
       "      <th>label1</th>\n",
       "      <th></th>\n",
       "      <th></th>\n",
       "      <th></th>\n",
       "      <th></th>\n",
       "      <th></th>\n",
       "    </tr>\n",
       "  </thead>\n",
       "  <tbody>\n",
       "    <tr>\n",
       "      <td>adjuster</td>\n",
       "      <td>321</td>\n",
       "      <td>55.30</td>\n",
       "      <td>45.941406</td>\n",
       "      <td>9.560056</td>\n",
       "      <td>0.027707</td>\n",
       "    </tr>\n",
       "    <tr>\n",
       "      <td>agent</td>\n",
       "      <td>111</td>\n",
       "      <td>61.30</td>\n",
       "      <td>38.308594</td>\n",
       "      <td>6.750100</td>\n",
       "      <td>0.046023</td>\n",
       "    </tr>\n",
       "    <tr>\n",
       "      <td>analyst</td>\n",
       "      <td>261</td>\n",
       "      <td>58.80</td>\n",
       "      <td>44.328125</td>\n",
       "      <td>10.123203</td>\n",
       "      <td>0.030408</td>\n",
       "    </tr>\n",
       "    <tr>\n",
       "      <td>artist</td>\n",
       "      <td>222</td>\n",
       "      <td>56.90</td>\n",
       "      <td>59.839844</td>\n",
       "      <td>5.869353</td>\n",
       "      <td>0.033162</td>\n",
       "    </tr>\n",
       "    <tr>\n",
       "      <td>attendant</td>\n",
       "      <td>221</td>\n",
       "      <td>39.20</td>\n",
       "      <td>59.839844</td>\n",
       "      <td>5.869353</td>\n",
       "      <td>0.032766</td>\n",
       "    </tr>\n",
       "    <tr>\n",
       "      <td>bailiff</td>\n",
       "      <td>443</td>\n",
       "      <td>23.80</td>\n",
       "      <td>32.843750</td>\n",
       "      <td>8.825222</td>\n",
       "      <td>0.020210</td>\n",
       "    </tr>\n",
       "    <tr>\n",
       "      <td>butcher</td>\n",
       "      <td>302</td>\n",
       "      <td>25.70</td>\n",
       "      <td>59.839844</td>\n",
       "      <td>5.869353</td>\n",
       "      <td>0.025104</td>\n",
       "    </tr>\n",
       "    <tr>\n",
       "      <td>cabinetmaker</td>\n",
       "      <td>60</td>\n",
       "      <td>7.90</td>\n",
       "      <td>39.296875</td>\n",
       "      <td>7.537513</td>\n",
       "      <td>0.034537</td>\n",
       "    </tr>\n",
       "    <tr>\n",
       "      <td>chemist</td>\n",
       "      <td>99</td>\n",
       "      <td>36.10</td>\n",
       "      <td>33.363281</td>\n",
       "      <td>5.701992</td>\n",
       "      <td>0.048029</td>\n",
       "    </tr>\n",
       "    <tr>\n",
       "      <td>counselor</td>\n",
       "      <td>332</td>\n",
       "      <td>54.60</td>\n",
       "      <td>32.843750</td>\n",
       "      <td>8.825222</td>\n",
       "      <td>0.027284</td>\n",
       "    </tr>\n",
       "    <tr>\n",
       "      <td>detective</td>\n",
       "      <td>122</td>\n",
       "      <td>32.80</td>\n",
       "      <td>42.105469</td>\n",
       "      <td>5.108939</td>\n",
       "      <td>0.042332</td>\n",
       "    </tr>\n",
       "    <tr>\n",
       "      <td>dietitian</td>\n",
       "      <td>108</td>\n",
       "      <td>94.60</td>\n",
       "      <td>64.968750</td>\n",
       "      <td>11.936204</td>\n",
       "      <td>0.021649</td>\n",
       "    </tr>\n",
       "    <tr>\n",
       "      <td>geoscientist</td>\n",
       "      <td>92</td>\n",
       "      <td>27.50</td>\n",
       "      <td>33.363281</td>\n",
       "      <td>5.701992</td>\n",
       "      <td>0.046301</td>\n",
       "    </tr>\n",
       "    <tr>\n",
       "      <td>guard</td>\n",
       "      <td>869</td>\n",
       "      <td>22.00</td>\n",
       "      <td>32.843750</td>\n",
       "      <td>8.825222</td>\n",
       "      <td>0.014044</td>\n",
       "    </tr>\n",
       "    <tr>\n",
       "      <td>lifeguard</td>\n",
       "      <td>144</td>\n",
       "      <td>43.70</td>\n",
       "      <td>59.839844</td>\n",
       "      <td>5.869353</td>\n",
       "      <td>0.041192</td>\n",
       "    </tr>\n",
       "    <tr>\n",
       "      <td>mechanic</td>\n",
       "      <td>289</td>\n",
       "      <td>0.05</td>\n",
       "      <td>41.132812</td>\n",
       "      <td>8.849903</td>\n",
       "      <td>0.001313</td>\n",
       "    </tr>\n",
       "    <tr>\n",
       "      <td>nurse</td>\n",
       "      <td>149</td>\n",
       "      <td>90.80</td>\n",
       "      <td>46.136719</td>\n",
       "      <td>8.045380</td>\n",
       "      <td>0.023599</td>\n",
       "    </tr>\n",
       "    <tr>\n",
       "      <td>officer</td>\n",
       "      <td>99</td>\n",
       "      <td>55.40</td>\n",
       "      <td>44.328125</td>\n",
       "      <td>10.123203</td>\n",
       "      <td>0.049708</td>\n",
       "    </tr>\n",
       "    <tr>\n",
       "      <td>paramedic</td>\n",
       "      <td>220</td>\n",
       "      <td>32.90</td>\n",
       "      <td>37.937500</td>\n",
       "      <td>7.576602</td>\n",
       "      <td>0.031606</td>\n",
       "    </tr>\n",
       "    <tr>\n",
       "      <td>physician</td>\n",
       "      <td>1007</td>\n",
       "      <td>37.90</td>\n",
       "      <td>43.183594</td>\n",
       "      <td>8.047545</td>\n",
       "      <td>0.015280</td>\n",
       "    </tr>\n",
       "    <tr>\n",
       "      <td>pilot</td>\n",
       "      <td>140</td>\n",
       "      <td>9.40</td>\n",
       "      <td>35.187500</td>\n",
       "      <td>11.607624</td>\n",
       "      <td>0.024576</td>\n",
       "    </tr>\n",
       "    <tr>\n",
       "      <td>pipelayer</td>\n",
       "      <td>573</td>\n",
       "      <td>0.70</td>\n",
       "      <td>38.605469</td>\n",
       "      <td>10.633586</td>\n",
       "      <td>0.003480</td>\n",
       "    </tr>\n",
       "    <tr>\n",
       "      <td>receptionist</td>\n",
       "      <td>1232</td>\n",
       "      <td>90.60</td>\n",
       "      <td>38.308594</td>\n",
       "      <td>6.750100</td>\n",
       "      <td>0.008311</td>\n",
       "    </tr>\n",
       "    <tr>\n",
       "      <td>specialist</td>\n",
       "      <td>117</td>\n",
       "      <td>70.80</td>\n",
       "      <td>46.128906</td>\n",
       "      <td>6.813829</td>\n",
       "      <td>0.041857</td>\n",
       "    </tr>\n",
       "    <tr>\n",
       "      <td>supervisor</td>\n",
       "      <td>293</td>\n",
       "      <td>40.60</td>\n",
       "      <td>59.839844</td>\n",
       "      <td>5.869353</td>\n",
       "      <td>0.028641</td>\n",
       "    </tr>\n",
       "    <tr>\n",
       "      <td>teacher</td>\n",
       "      <td>876</td>\n",
       "      <td>62.30</td>\n",
       "      <td>42.289062</td>\n",
       "      <td>6.319539</td>\n",
       "      <td>0.016365</td>\n",
       "    </tr>\n",
       "    <tr>\n",
       "      <td>technician</td>\n",
       "      <td>532</td>\n",
       "      <td>3.35</td>\n",
       "      <td>29.964844</td>\n",
       "      <td>8.147170</td>\n",
       "      <td>0.007794</td>\n",
       "    </tr>\n",
       "    <tr>\n",
       "      <td>technologist</td>\n",
       "      <td>425</td>\n",
       "      <td>77.10</td>\n",
       "      <td>37.937500</td>\n",
       "      <td>7.576602</td>\n",
       "      <td>0.020358</td>\n",
       "    </tr>\n",
       "    <tr>\n",
       "      <td>vendor</td>\n",
       "      <td>156</td>\n",
       "      <td>67.00</td>\n",
       "      <td>59.839844</td>\n",
       "      <td>5.869353</td>\n",
       "      <td>0.037527</td>\n",
       "    </tr>\n",
       "  </tbody>\n",
       "</table>\n",
       "</div>"
      ],
      "text/plain": [
       "              TotalEmployed  Women       mean        std  std_betadist\n",
       "label1                                                                \n",
       "adjuster                321  55.30  45.941406   9.560056      0.027707\n",
       "agent                   111  61.30  38.308594   6.750100      0.046023\n",
       "analyst                 261  58.80  44.328125  10.123203      0.030408\n",
       "artist                  222  56.90  59.839844   5.869353      0.033162\n",
       "attendant               221  39.20  59.839844   5.869353      0.032766\n",
       "bailiff                 443  23.80  32.843750   8.825222      0.020210\n",
       "butcher                 302  25.70  59.839844   5.869353      0.025104\n",
       "cabinetmaker             60   7.90  39.296875   7.537513      0.034537\n",
       "chemist                  99  36.10  33.363281   5.701992      0.048029\n",
       "counselor               332  54.60  32.843750   8.825222      0.027284\n",
       "detective               122  32.80  42.105469   5.108939      0.042332\n",
       "dietitian               108  94.60  64.968750  11.936204      0.021649\n",
       "geoscientist             92  27.50  33.363281   5.701992      0.046301\n",
       "guard                   869  22.00  32.843750   8.825222      0.014044\n",
       "lifeguard               144  43.70  59.839844   5.869353      0.041192\n",
       "mechanic                289   0.05  41.132812   8.849903      0.001313\n",
       "nurse                   149  90.80  46.136719   8.045380      0.023599\n",
       "officer                  99  55.40  44.328125  10.123203      0.049708\n",
       "paramedic               220  32.90  37.937500   7.576602      0.031606\n",
       "physician              1007  37.90  43.183594   8.047545      0.015280\n",
       "pilot                   140   9.40  35.187500  11.607624      0.024576\n",
       "pipelayer               573   0.70  38.605469  10.633586      0.003480\n",
       "receptionist           1232  90.60  38.308594   6.750100      0.008311\n",
       "specialist              117  70.80  46.128906   6.813829      0.041857\n",
       "supervisor              293  40.60  59.839844   5.869353      0.028641\n",
       "teacher                 876  62.30  42.289062   6.319539      0.016365\n",
       "technician              532   3.35  29.964844   8.147170      0.007794\n",
       "technologist            425  77.10  37.937500   7.576602      0.020358\n",
       "vendor                  156  67.00  59.839844   5.869353      0.037527"
      ]
     },
     "execution_count": 52,
     "metadata": {},
     "output_type": "execute_result"
    }
   ],
   "source": [
    "corr_df"
   ]
  },
  {
   "cell_type": "code",
   "execution_count": 54,
   "metadata": {},
   "outputs": [],
   "source": [
    "from scipy.stats import pearsonr"
   ]
  },
  {
   "cell_type": "code",
   "execution_count": 55,
   "metadata": {},
   "outputs": [
    {
     "data": {
      "text/plain": [
       "(0.368477149703709, 0.04919980212894259)"
      ]
     },
     "execution_count": 55,
     "metadata": {},
     "output_type": "execute_result"
    }
   ],
   "source": [
    "pearsonr(corr_df['Women'],\n",
    "        corr_df['mean']\n",
    "        )"
   ]
  },
  {
   "cell_type": "code",
   "execution_count": 56,
   "metadata": {},
   "outputs": [
    {
     "data": {
      "text/plain": [
       "(-0.40128412772461786, 0.03096402541770981)"
      ]
     },
     "execution_count": 56,
     "metadata": {},
     "output_type": "execute_result"
    }
   ],
   "source": [
    "pearsonr(corr_df['std_betadist'],\n",
    "        corr_df['std']\n",
    "        )"
   ]
  },
  {
   "cell_type": "markdown",
   "metadata": {},
   "source": [
    "  "
   ]
  }
 ],
 "metadata": {
  "kernelspec": {
   "display_name": "Python 3",
   "language": "python",
   "name": "python3"
  },
  "language_info": {
   "codemirror_mode": {
    "name": "ipython",
    "version": 3
   },
   "file_extension": ".py",
   "mimetype": "text/x-python",
   "name": "python",
   "nbconvert_exporter": "python",
   "pygments_lexer": "ipython3",
   "version": "3.7.3"
  }
 },
 "nbformat": 4,
 "nbformat_minor": 2
}
