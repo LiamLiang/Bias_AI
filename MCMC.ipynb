{
 "cells": [
  {
   "cell_type": "markdown",
   "metadata": {},
   "source": [
    "# Artificial mental phenomena: Psychophysics as a framework to detect perception biases in AI models"
   ]
  },
  {
   "cell_type": "markdown",
   "metadata": {},
   "source": [
    "Lizhen Liang and Daniel E. Acuna  \n",
    "School of Information Studies      \n",
    "Syracuse University  \n",
    "Science of Science & Computational Discovery Lab  \n",
    "Syracuse, New York"
   ]
  },
  {
   "cell_type": "markdown",
   "metadata": {},
   "source": [
    "## Part 2: Markov Chain Monte Carlo"
   ]
  },
  {
   "cell_type": "code",
   "execution_count": 1,
   "metadata": {},
   "outputs": [],
   "source": [
    "import os\n",
    "import findspark\n",
    "\n",
    "os.environ['PATH'] = os.environ['PATH'] + \":/usr/java/jdk1.8.0_162/bin\"\n",
    "\n",
    "import findspark\n",
    "os.environ['PYSPARK_SUBMIT_ARGS'] = \\\n",
    "    \"--packages com.databricks:spark-xml_2.11:0.5.0 pyspark-shell\"\n",
    "findspark.init('/opt/cloudera/parcels/SPARK2/lib/spark2/')\n",
    "\n",
    "from pyspark.sql import SparkSession\n",
    "\n",
    "spark = SparkSession.builder.\\\n",
    "    appName('Bias_part2').\\\n",
    "    config('spark.driver.memory', '10g').\\\n",
    "    config('spark.network.timeout', '600s').\\\n",
    "    config('spark.driver.maxResultSize', '10g').\\\n",
    "    config('spark.executor.memory', '10g').\\\n",
    "    config('spark.kryoserializer.buffer.max', '1g').getOrCreate()\n",
    "\n",
    "sc = spark.sparkContext"
   ]
  },
  {
   "cell_type": "code",
   "execution_count": 2,
   "metadata": {},
   "outputs": [],
   "source": [
    "from pyspark.ml import feature, regression, evaluation, Pipeline\n",
    "from pyspark.sql import functions as fn"
   ]
  },
  {
   "cell_type": "code",
   "execution_count": 3,
   "metadata": {},
   "outputs": [],
   "source": [
    "import numpy as np\n",
    "import pandas as pd\n",
    "import matplotlib.pyplot as plt\n",
    "import pickle"
   ]
  },
  {
   "cell_type": "code",
   "execution_count": 22,
   "metadata": {},
   "outputs": [],
   "source": [
    "import torch\n",
    "import torch.nn as nn"
   ]
  },
  {
   "cell_type": "code",
   "execution_count": 4,
   "metadata": {},
   "outputs": [],
   "source": [
    "from gensim.test.utils import datapath, get_tmpfile\n",
    "from gensim.models import KeyedVectors\n",
    "from gensim.scripts.glove2word2vec import glove2word2vec"
   ]
  },
  {
   "cell_type": "code",
   "execution_count": 60,
   "metadata": {},
   "outputs": [],
   "source": [
    "import pyro\n",
    "from numpy.random import uniform\n",
    "from scipy.stats import norm\n",
    "from scipy.stats import ttest_1samp\n",
    "from pyro.infer.mcmc.api import MCMC\n",
    "from pyro.infer.mcmc import NUTS\n",
    "from pyro.infer.abstract_infer import EmpiricalMarginal\n",
    "from pyro.distributions import Bernoulli, Normal"
   ]
  },
  {
   "cell_type": "markdown",
   "metadata": {},
   "source": [
    "## Detecting bias using MCMC"
   ]
  },
  {
   "cell_type": "markdown",
   "metadata": {},
   "source": [
    "### Implementing MLP"
   ]
  },
  {
   "cell_type": "code",
   "execution_count": 5,
   "metadata": {},
   "outputs": [],
   "source": [
    "from pyspark.ml.feature import Word2Vec\n",
    "from pyspark.ml.feature import RegexTokenizer"
   ]
  },
  {
   "cell_type": "code",
   "execution_count": 6,
   "metadata": {},
   "outputs": [],
   "source": [
    "imdb_df = pd.read_csv('./imdb_reviews.csv')"
   ]
  },
  {
   "cell_type": "code",
   "execution_count": 7,
   "metadata": {},
   "outputs": [
    {
     "data": {
      "text/html": [
       "<div>\n",
       "<style scoped>\n",
       "    .dataframe tbody tr th:only-of-type {\n",
       "        vertical-align: middle;\n",
       "    }\n",
       "\n",
       "    .dataframe tbody tr th {\n",
       "        vertical-align: top;\n",
       "    }\n",
       "\n",
       "    .dataframe thead th {\n",
       "        text-align: right;\n",
       "    }\n",
       "</style>\n",
       "<table border=\"1\" class=\"dataframe\">\n",
       "  <thead>\n",
       "    <tr style=\"text-align: right;\">\n",
       "      <th></th>\n",
       "      <th>id</th>\n",
       "      <th>review</th>\n",
       "      <th>score</th>\n",
       "    </tr>\n",
       "  </thead>\n",
       "  <tbody>\n",
       "    <tr>\n",
       "      <td>0</td>\n",
       "      <td>pos_10006</td>\n",
       "      <td>In this \"critically acclaimed psychological th...</td>\n",
       "      <td>1.0</td>\n",
       "    </tr>\n",
       "    <tr>\n",
       "      <td>1</td>\n",
       "      <td>pos_10013</td>\n",
       "      <td>Like one of the previous commenters said, this...</td>\n",
       "      <td>1.0</td>\n",
       "    </tr>\n",
       "    <tr>\n",
       "      <td>2</td>\n",
       "      <td>pos_10022</td>\n",
       "      <td>Aro Tolbukhin burnt alive seven people in a Mi...</td>\n",
       "      <td>1.0</td>\n",
       "    </tr>\n",
       "    <tr>\n",
       "      <td>3</td>\n",
       "      <td>pos_10033</td>\n",
       "      <td>The movie Titanic makes it much more then just...</td>\n",
       "      <td>1.0</td>\n",
       "    </tr>\n",
       "    <tr>\n",
       "      <td>4</td>\n",
       "      <td>pos_1003</td>\n",
       "      <td>Another Aussie masterpiece, this delves into t...</td>\n",
       "      <td>1.0</td>\n",
       "    </tr>\n",
       "  </tbody>\n",
       "</table>\n",
       "</div>"
      ],
      "text/plain": [
       "          id                                             review  score\n",
       "0  pos_10006  In this \"critically acclaimed psychological th...    1.0\n",
       "1  pos_10013  Like one of the previous commenters said, this...    1.0\n",
       "2  pos_10022  Aro Tolbukhin burnt alive seven people in a Mi...    1.0\n",
       "3  pos_10033  The movie Titanic makes it much more then just...    1.0\n",
       "4   pos_1003  Another Aussie masterpiece, this delves into t...    1.0"
      ]
     },
     "execution_count": 7,
     "metadata": {},
     "output_type": "execute_result"
    }
   ],
   "source": [
    "imdb_df.head()"
   ]
  },
  {
   "cell_type": "code",
   "execution_count": 8,
   "metadata": {},
   "outputs": [],
   "source": [
    "spark_imdb_df = spark.createDataFrame(imdb_df)"
   ]
  },
  {
   "cell_type": "code",
   "execution_count": 9,
   "metadata": {},
   "outputs": [
    {
     "name": "stdout",
     "output_type": "stream",
     "text": [
      "root\n",
      " |-- id: string (nullable = true)\n",
      " |-- review: string (nullable = true)\n",
      " |-- score: double (nullable = true)\n",
      "\n"
     ]
    }
   ],
   "source": [
    "spark_imdb_df.printSchema()"
   ]
  },
  {
   "cell_type": "code",
   "execution_count": 10,
   "metadata": {},
   "outputs": [],
   "source": [
    "imdb_pipeline_df = spark_imdb_df.withColumnRenamed('score', 'label').select('review', 'label')"
   ]
  },
  {
   "cell_type": "code",
   "execution_count": 11,
   "metadata": {},
   "outputs": [],
   "source": [
    "tokenizer = RegexTokenizer().setGaps(False)\\\n",
    "  .setPattern(\"\\\\p{L}{3,}\")\\\n",
    "  .setInputCol(\"review\")\\\n",
    "  .setOutputCol(\"words\")"
   ]
  },
  {
   "cell_type": "code",
   "execution_count": 12,
   "metadata": {},
   "outputs": [],
   "source": [
    "w2v = Word2Vec(inputCol='words', outputCol='w2v', maxIter=5)"
   ]
  },
  {
   "cell_type": "code",
   "execution_count": 13,
   "metadata": {},
   "outputs": [],
   "source": [
    "pipe = Pipeline(stages=[tokenizer, w2v])"
   ]
  },
  {
   "cell_type": "code",
   "execution_count": 14,
   "metadata": {},
   "outputs": [],
   "source": [
    "sentence2vec = pipe.fit(imdb_pipeline_df)"
   ]
  },
  {
   "cell_type": "code",
   "execution_count": 15,
   "metadata": {},
   "outputs": [
    {
     "data": {
      "text/plain": [
       "28466"
      ]
     },
     "execution_count": 15,
     "metadata": {},
     "output_type": "execute_result"
    }
   ],
   "source": [
    "dictionary = sentence2vec.stages[1].getVectors().collect()\n",
    "len(dictionary)"
   ]
  },
  {
   "cell_type": "code",
   "execution_count": 16,
   "metadata": {},
   "outputs": [],
   "source": [
    "w2v_dict = {row.word: row.vector.toArray() for row in dictionary}"
   ]
  },
  {
   "cell_type": "code",
   "execution_count": 18,
   "metadata": {},
   "outputs": [
    {
     "name": "stderr",
     "output_type": "stream",
     "text": [
      "/home/tozeng/anaconda3/lib/python3.7/site-packages/ipykernel_launcher.py:4: FutureWarning: Method .as_matrix will be removed in a future version. Use .values instead.\n",
      "  after removing the cwd from sys.path.\n"
     ]
    }
   ],
   "source": [
    "imdbedding_df = sentence2vec.transform(imdb_pipeline_df).select('w2v', 'label')\n",
    "imdbedding_df = imdbedding_df.toPandas()\n",
    "denseEmbedd = imdbedding_df['w2v']\n",
    "imdbedding_df['w2v'] = denseEmbedd.apply(lambda x : np.array(x.toArray())).as_matrix().reshape(-1,1)"
   ]
  },
  {
   "cell_type": "code",
   "execution_count": 19,
   "metadata": {},
   "outputs": [],
   "source": [
    "from sklearn.model_selection import train_test_split"
   ]
  },
  {
   "cell_type": "code",
   "execution_count": 20,
   "metadata": {},
   "outputs": [],
   "source": [
    "train, test = train_test_split(imdbedding_df, test_size=0.33)"
   ]
  },
  {
   "cell_type": "code",
   "execution_count": 43,
   "metadata": {},
   "outputs": [],
   "source": [
    "X_train = torch.tensor(np.array([arr.astype(float) for arr in train['w2v']])).type('torch.FloatTensor')"
   ]
  },
  {
   "cell_type": "code",
   "execution_count": 44,
   "metadata": {
    "scrolled": true
   },
   "outputs": [],
   "source": [
    "y_train = torch.tensor(np.array([train['label'].astype(float)])).type('torch.FloatTensor')"
   ]
  },
  {
   "cell_type": "code",
   "execution_count": 45,
   "metadata": {},
   "outputs": [],
   "source": [
    "imdb_array = np.array([arr.tolist() for arr in imdbedding_df['w2v'].values])"
   ]
  },
  {
   "cell_type": "code",
   "execution_count": 46,
   "metadata": {},
   "outputs": [
    {
     "data": {
      "text/plain": [
       "(25000, 100)"
      ]
     },
     "execution_count": 46,
     "metadata": {},
     "output_type": "execute_result"
    }
   ],
   "source": [
    "imdb_array.shape"
   ]
  },
  {
   "cell_type": "code",
   "execution_count": 47,
   "metadata": {},
   "outputs": [
    {
     "data": {
      "text/plain": [
       "0.41712854239683145"
      ]
     },
     "execution_count": 47,
     "metadata": {},
     "output_type": "execute_result"
    }
   ],
   "source": [
    "np.mean([np.sqrt(np.sum(imdb**2)) for imdb in imdb_array])"
   ]
  },
  {
   "cell_type": "code",
   "execution_count": 48,
   "metadata": {},
   "outputs": [
    {
     "data": {
      "image/png": "[encoded data removed]",
      "text/plain": [
       "<Figure size 432x288 with 1 Axes>"
      ]
     },
     "metadata": {
      "needs_background": "light"
     },
     "output_type": "display_data"
    }
   ],
   "source": [
    "plt.hist(np.sqrt((imdb_array**2).sum(1)));"
   ]
  },
  {
   "cell_type": "markdown",
   "metadata": {},
   "source": [
    "100 x 20 x 20 x 10 x 2"
   ]
  },
  {
   "cell_type": "code",
   "execution_count": 29,
   "metadata": {},
   "outputs": [],
   "source": [
    "mlp = nn.Sequential(\n",
    "    nn.Linear(100, 20),\n",
    "    nn.Sigmoid(), \n",
    "    nn.Linear(20, 20),\n",
    "    nn.Sigmoid(), \n",
    "    nn.Linear(20, 10),\n",
    "    nn.Sigmoid(), \n",
    "    nn.Linear(10, 2),\n",
    "    nn.Sigmoid(),\n",
    "    nn.Linear(2, 1),\n",
    "    nn.Sigmoid()\n",
    ")"
   ]
  },
  {
   "cell_type": "code",
   "execution_count": 30,
   "metadata": {},
   "outputs": [],
   "source": [
    "learning_rate = 0.01\n",
    "num_epochs = 10\n",
    "criterion = nn.BCELoss()\n",
    "optimizer = torch.optim.Adam(mlp.parameters(), lr=learning_rate)"
   ]
  },
  {
   "cell_type": "code",
   "execution_count": 31,
   "metadata": {
    "scrolled": true
   },
   "outputs": [
    {
     "name": "stderr",
     "output_type": "stream",
     "text": [
      "/home/lliang06/.local/lib/python3.7/site-packages/torch/nn/modules/loss.py:498: UserWarning: Using a target size (torch.Size([])) that is different to the input size (torch.Size([1])) is deprecated. Please ensure they have the same size.\n",
      "  return F.binary_cross_entropy(input, target, weight=self.weight, reduction=self.reduction)\n"
     ]
    },
    {
     "name": "stdout",
     "output_type": "stream",
     "text": [
      "Epoch [1/10], Step [1000/16750], Loss: 0.7207, Accuracy: 49.00%\n",
      "Epoch [1/10], Step [2000/16750], Loss: 0.7485, Accuracy: 50.20%\n",
      "Epoch [1/10], Step [3000/16750], Loss: 0.4242, Accuracy: 55.07%\n",
      "Epoch [1/10], Step [4000/16750], Loss: 0.1491, Accuracy: 61.78%\n",
      "Epoch [1/10], Step [5000/16750], Loss: 0.1727, Accuracy: 66.16%\n",
      "Epoch [1/10], Step [6000/16750], Loss: 0.1363, Accuracy: 69.40%\n",
      "Epoch [1/10], Step [7000/16750], Loss: 0.1441, Accuracy: 71.93%\n",
      "Epoch [1/10], Step [8000/16750], Loss: 0.0602, Accuracy: 73.83%\n",
      "Epoch [1/10], Step [9000/16750], Loss: 1.1032, Accuracy: 75.08%\n",
      "Epoch [1/10], Step [10000/16750], Loss: 0.0508, Accuracy: 76.32%\n",
      "Epoch [1/10], Step [11000/16750], Loss: 0.0451, Accuracy: 77.20%\n",
      "Epoch [1/10], Step [12000/16750], Loss: 0.0607, Accuracy: 77.95%\n",
      "Epoch [1/10], Step [13000/16750], Loss: 0.2215, Accuracy: 78.58%\n",
      "Epoch [1/10], Step [14000/16750], Loss: 0.2462, Accuracy: 79.15%\n",
      "Epoch [1/10], Step [15000/16750], Loss: 0.7169, Accuracy: 79.49%\n",
      "Epoch [1/10], Step [16000/16750], Loss: 0.0483, Accuracy: 79.97%\n",
      "Epoch [2/10], Step [1000/16750], Loss: 0.5542, Accuracy: 88.40%\n",
      "Epoch [2/10], Step [2000/16750], Loss: 0.5736, Accuracy: 86.85%\n",
      "Epoch [2/10], Step [3000/16750], Loss: 0.0386, Accuracy: 87.43%\n",
      "Epoch [2/10], Step [4000/16750], Loss: 0.0221, Accuracy: 87.48%\n",
      "Epoch [2/10], Step [5000/16750], Loss: 0.0375, Accuracy: 87.38%\n",
      "Epoch [2/10], Step [6000/16750], Loss: 0.0363, Accuracy: 87.70%\n",
      "Epoch [2/10], Step [7000/16750], Loss: 0.1989, Accuracy: 87.81%\n",
      "Epoch [2/10], Step [8000/16750], Loss: 0.1332, Accuracy: 87.94%\n",
      "Epoch [2/10], Step [9000/16750], Loss: 1.2602, Accuracy: 87.72%\n",
      "Epoch [2/10], Step [10000/16750], Loss: 0.0315, Accuracy: 87.71%\n",
      "Epoch [2/10], Step [11000/16750], Loss: 0.0355, Accuracy: 87.63%\n",
      "Epoch [2/10], Step [12000/16750], Loss: 0.0206, Accuracy: 87.57%\n",
      "Epoch [2/10], Step [13000/16750], Loss: 0.1870, Accuracy: 87.54%\n",
      "Epoch [2/10], Step [14000/16750], Loss: 0.3486, Accuracy: 87.50%\n",
      "Epoch [2/10], Step [15000/16750], Loss: 0.5772, Accuracy: 87.39%\n",
      "Epoch [2/10], Step [16000/16750], Loss: 0.0569, Accuracy: 87.46%\n",
      "Epoch [3/10], Step [1000/16750], Loss: 1.1030, Accuracy: 89.60%\n",
      "Epoch [3/10], Step [2000/16750], Loss: 0.5243, Accuracy: 88.70%\n",
      "Epoch [3/10], Step [3000/16750], Loss: 0.0317, Accuracy: 88.57%\n",
      "Epoch [3/10], Step [4000/16750], Loss: 0.0211, Accuracy: 88.33%\n",
      "Epoch [3/10], Step [5000/16750], Loss: 0.0281, Accuracy: 88.14%\n",
      "Epoch [3/10], Step [6000/16750], Loss: 0.0296, Accuracy: 88.47%\n",
      "Epoch [3/10], Step [7000/16750], Loss: 0.0952, Accuracy: 88.53%\n",
      "Epoch [3/10], Step [8000/16750], Loss: 0.1346, Accuracy: 88.59%\n",
      "Epoch [3/10], Step [9000/16750], Loss: 1.2059, Accuracy: 88.32%\n",
      "Epoch [3/10], Step [10000/16750], Loss: 0.0221, Accuracy: 88.26%\n",
      "Epoch [3/10], Step [11000/16750], Loss: 0.0282, Accuracy: 88.14%\n",
      "Epoch [3/10], Step [12000/16750], Loss: 0.0146, Accuracy: 88.05%\n",
      "Epoch [3/10], Step [13000/16750], Loss: 0.1312, Accuracy: 87.98%\n",
      "Epoch [3/10], Step [14000/16750], Loss: 0.2831, Accuracy: 87.94%\n",
      "Epoch [3/10], Step [15000/16750], Loss: 0.4873, Accuracy: 87.82%\n",
      "Epoch [3/10], Step [16000/16750], Loss: 0.0532, Accuracy: 87.86%\n",
      "Epoch [4/10], Step [1000/16750], Loss: 1.2638, Accuracy: 89.60%\n",
      "Epoch [4/10], Step [2000/16750], Loss: 0.5413, Accuracy: 88.65%\n",
      "Epoch [4/10], Step [3000/16750], Loss: 0.0324, Accuracy: 88.57%\n",
      "Epoch [4/10], Step [4000/16750], Loss: 0.0215, Accuracy: 88.30%\n",
      "Epoch [4/10], Step [5000/16750], Loss: 0.0247, Accuracy: 88.20%\n",
      "Epoch [4/10], Step [6000/16750], Loss: 0.0264, Accuracy: 88.58%\n",
      "Epoch [4/10], Step [7000/16750], Loss: 0.0599, Accuracy: 88.73%\n",
      "Epoch [4/10], Step [8000/16750], Loss: 0.1748, Accuracy: 88.79%\n",
      "Epoch [4/10], Step [9000/16750], Loss: 1.1267, Accuracy: 88.59%\n",
      "Epoch [4/10], Step [10000/16750], Loss: 0.0225, Accuracy: 88.47%\n",
      "Epoch [4/10], Step [11000/16750], Loss: 0.0268, Accuracy: 88.38%\n",
      "Epoch [4/10], Step [12000/16750], Loss: 0.0123, Accuracy: 88.30%\n",
      "Epoch [4/10], Step [13000/16750], Loss: 0.1069, Accuracy: 88.19%\n",
      "Epoch [4/10], Step [14000/16750], Loss: 0.2954, Accuracy: 88.16%\n",
      "Epoch [4/10], Step [15000/16750], Loss: 0.3361, Accuracy: 88.05%\n",
      "Epoch [4/10], Step [16000/16750], Loss: 0.0509, Accuracy: 88.08%\n",
      "Epoch [5/10], Step [1000/16750], Loss: 1.4248, Accuracy: 89.90%\n",
      "Epoch [5/10], Step [2000/16750], Loss: 0.5315, Accuracy: 88.65%\n",
      "Epoch [5/10], Step [3000/16750], Loss: 0.0311, Accuracy: 88.53%\n",
      "Epoch [5/10], Step [4000/16750], Loss: 0.0197, Accuracy: 88.52%\n",
      "Epoch [5/10], Step [5000/16750], Loss: 0.0239, Accuracy: 88.40%\n",
      "Epoch [5/10], Step [6000/16750], Loss: 0.0250, Accuracy: 88.65%\n",
      "Epoch [5/10], Step [7000/16750], Loss: 0.0611, Accuracy: 88.81%\n",
      "Epoch [5/10], Step [8000/16750], Loss: 0.1748, Accuracy: 88.86%\n",
      "Epoch [5/10], Step [9000/16750], Loss: 1.0288, Accuracy: 88.63%\n",
      "Epoch [5/10], Step [10000/16750], Loss: 0.0232, Accuracy: 88.55%\n",
      "Epoch [5/10], Step [11000/16750], Loss: 0.0245, Accuracy: 88.40%\n",
      "Epoch [5/10], Step [12000/16750], Loss: 0.0109, Accuracy: 88.35%\n",
      "Epoch [5/10], Step [13000/16750], Loss: 0.0995, Accuracy: 88.25%\n",
      "Epoch [5/10], Step [14000/16750], Loss: 0.2682, Accuracy: 88.23%\n",
      "Epoch [5/10], Step [15000/16750], Loss: 0.2329, Accuracy: 88.11%\n",
      "Epoch [5/10], Step [16000/16750], Loss: 0.0434, Accuracy: 88.15%\n",
      "Epoch [6/10], Step [1000/16750], Loss: 1.2294, Accuracy: 90.40%\n",
      "Epoch [6/10], Step [2000/16750], Loss: 0.4614, Accuracy: 89.20%\n",
      "Epoch [6/10], Step [3000/16750], Loss: 0.0310, Accuracy: 89.00%\n",
      "Epoch [6/10], Step [4000/16750], Loss: 0.0170, Accuracy: 88.85%\n",
      "Epoch [6/10], Step [5000/16750], Loss: 0.0244, Accuracy: 88.76%\n",
      "Epoch [6/10], Step [6000/16750], Loss: 0.0246, Accuracy: 89.00%\n",
      "Epoch [6/10], Step [7000/16750], Loss: 0.0465, Accuracy: 89.14%\n",
      "Epoch [6/10], Step [8000/16750], Loss: 0.1196, Accuracy: 89.18%\n",
      "Epoch [6/10], Step [9000/16750], Loss: 0.9116, Accuracy: 88.96%\n",
      "Epoch [6/10], Step [10000/16750], Loss: 0.0305, Accuracy: 88.89%\n",
      "Epoch [6/10], Step [11000/16750], Loss: 0.0288, Accuracy: 88.67%\n",
      "Epoch [6/10], Step [12000/16750], Loss: 0.0110, Accuracy: 88.59%\n",
      "Epoch [6/10], Step [13000/16750], Loss: 0.0573, Accuracy: 88.46%\n",
      "Epoch [6/10], Step [14000/16750], Loss: 0.2191, Accuracy: 88.43%\n",
      "Epoch [6/10], Step [15000/16750], Loss: 0.2098, Accuracy: 88.30%\n",
      "Epoch [6/10], Step [16000/16750], Loss: 0.0405, Accuracy: 88.27%\n",
      "Epoch [7/10], Step [1000/16750], Loss: 1.1863, Accuracy: 90.50%\n",
      "Epoch [7/10], Step [2000/16750], Loss: 0.4208, Accuracy: 89.10%\n",
      "Epoch [7/10], Step [3000/16750], Loss: 0.0298, Accuracy: 89.00%\n",
      "Epoch [7/10], Step [4000/16750], Loss: 0.0154, Accuracy: 88.98%\n",
      "Epoch [7/10], Step [5000/16750], Loss: 0.0248, Accuracy: 88.82%\n",
      "Epoch [7/10], Step [6000/16750], Loss: 0.0257, Accuracy: 89.07%\n",
      "Epoch [7/10], Step [7000/16750], Loss: 0.0349, Accuracy: 89.23%\n",
      "Epoch [7/10], Step [8000/16750], Loss: 0.1327, Accuracy: 89.36%\n",
      "Epoch [7/10], Step [9000/16750], Loss: 1.0974, Accuracy: 89.18%\n",
      "Epoch [7/10], Step [10000/16750], Loss: 0.0208, Accuracy: 89.08%\n",
      "Epoch [7/10], Step [11000/16750], Loss: 0.0343, Accuracy: 88.95%\n",
      "Epoch [7/10], Step [12000/16750], Loss: 0.0097, Accuracy: 88.89%\n",
      "Epoch [7/10], Step [13000/16750], Loss: 0.0474, Accuracy: 88.74%\n",
      "Epoch [7/10], Step [14000/16750], Loss: 0.1290, Accuracy: 88.66%\n",
      "Epoch [7/10], Step [15000/16750], Loss: 0.1788, Accuracy: 88.52%\n",
      "Epoch [7/10], Step [16000/16750], Loss: 0.0307, Accuracy: 88.46%\n",
      "Epoch [8/10], Step [1000/16750], Loss: 1.0296, Accuracy: 90.50%\n",
      "Epoch [8/10], Step [2000/16750], Loss: 0.4017, Accuracy: 89.20%\n",
      "Epoch [8/10], Step [3000/16750], Loss: 0.0308, Accuracy: 89.17%\n",
      "Epoch [8/10], Step [4000/16750], Loss: 0.0142, Accuracy: 89.10%\n",
      "Epoch [8/10], Step [5000/16750], Loss: 0.0244, Accuracy: 88.98%\n",
      "Epoch [8/10], Step [6000/16750], Loss: 0.0252, Accuracy: 89.25%\n",
      "Epoch [8/10], Step [7000/16750], Loss: 0.0214, Accuracy: 89.47%\n",
      "Epoch [8/10], Step [8000/16750], Loss: 0.1232, Accuracy: 89.58%\n",
      "Epoch [8/10], Step [9000/16750], Loss: 1.2464, Accuracy: 89.40%\n",
      "Epoch [8/10], Step [10000/16750], Loss: 0.0203, Accuracy: 89.30%\n",
      "Epoch [8/10], Step [11000/16750], Loss: 0.0298, Accuracy: 89.14%\n",
      "Epoch [8/10], Step [12000/16750], Loss: 0.0083, Accuracy: 89.08%\n",
      "Epoch [8/10], Step [13000/16750], Loss: 0.0392, Accuracy: 88.88%\n",
      "Epoch [8/10], Step [14000/16750], Loss: 0.0854, Accuracy: 88.81%\n",
      "Epoch [8/10], Step [15000/16750], Loss: 0.1716, Accuracy: 88.63%\n",
      "Epoch [8/10], Step [16000/16750], Loss: 0.0327, Accuracy: 88.54%\n"
     ]
    },
    {
     "name": "stdout",
     "output_type": "stream",
     "text": [
      "Epoch [9/10], Step [1000/16750], Loss: 1.1605, Accuracy: 90.00%\n",
      "Epoch [9/10], Step [2000/16750], Loss: 0.4624, Accuracy: 89.25%\n",
      "Epoch [9/10], Step [3000/16750], Loss: 0.0266, Accuracy: 89.37%\n",
      "Epoch [9/10], Step [4000/16750], Loss: 0.0153, Accuracy: 89.22%\n",
      "Epoch [9/10], Step [5000/16750], Loss: 0.0223, Accuracy: 89.06%\n",
      "Epoch [9/10], Step [6000/16750], Loss: 0.0244, Accuracy: 89.27%\n",
      "Epoch [9/10], Step [7000/16750], Loss: 0.0356, Accuracy: 89.46%\n",
      "Epoch [9/10], Step [8000/16750], Loss: 0.1262, Accuracy: 89.54%\n",
      "Epoch [9/10], Step [9000/16750], Loss: 1.2266, Accuracy: 89.37%\n",
      "Epoch [9/10], Step [10000/16750], Loss: 0.0215, Accuracy: 89.28%\n",
      "Epoch [9/10], Step [11000/16750], Loss: 0.0198, Accuracy: 89.09%\n",
      "Epoch [9/10], Step [12000/16750], Loss: 0.0076, Accuracy: 89.04%\n",
      "Epoch [9/10], Step [13000/16750], Loss: 0.0232, Accuracy: 88.88%\n",
      "Epoch [9/10], Step [14000/16750], Loss: 0.0823, Accuracy: 88.77%\n",
      "Epoch [9/10], Step [15000/16750], Loss: 0.2625, Accuracy: 88.58%\n",
      "Epoch [9/10], Step [16000/16750], Loss: 0.0303, Accuracy: 88.49%\n",
      "Epoch [10/10], Step [1000/16750], Loss: 0.9321, Accuracy: 90.80%\n",
      "Epoch [10/10], Step [2000/16750], Loss: 0.4297, Accuracy: 89.80%\n",
      "Epoch [10/10], Step [3000/16750], Loss: 0.0285, Accuracy: 89.60%\n",
      "Epoch [10/10], Step [4000/16750], Loss: 0.0157, Accuracy: 89.40%\n",
      "Epoch [10/10], Step [5000/16750], Loss: 0.0237, Accuracy: 89.24%\n",
      "Epoch [10/10], Step [6000/16750], Loss: 0.0269, Accuracy: 89.53%\n",
      "Epoch [10/10], Step [7000/16750], Loss: 0.0573, Accuracy: 89.66%\n",
      "Epoch [10/10], Step [8000/16750], Loss: 0.0717, Accuracy: 89.69%\n",
      "Epoch [10/10], Step [9000/16750], Loss: 1.1331, Accuracy: 89.50%\n",
      "Epoch [10/10], Step [10000/16750], Loss: 0.0304, Accuracy: 89.44%\n",
      "Epoch [10/10], Step [11000/16750], Loss: 0.0313, Accuracy: 89.30%\n",
      "Epoch [10/10], Step [12000/16750], Loss: 0.0060, Accuracy: 89.22%\n",
      "Epoch [10/10], Step [13000/16750], Loss: 0.0220, Accuracy: 89.02%\n",
      "Epoch [10/10], Step [14000/16750], Loss: 0.0825, Accuracy: 88.95%\n",
      "Epoch [10/10], Step [15000/16750], Loss: 0.2103, Accuracy: 88.79%\n",
      "Epoch [10/10], Step [16000/16750], Loss: 0.0334, Accuracy: 88.71%\n"
     ]
    }
   ],
   "source": [
    "loss_list = []\n",
    "acc_list = []\n",
    "correct_list = []\n",
    "n_batches = X_train.shape[0]\n",
    "for epoch in range(num_epochs):\n",
    "    correct_list = []\n",
    "    for j in range(n_batches):\n",
    "        outputs = mlp(X_train[j])\n",
    "        loss = criterion(outputs, y_train[0][j])#.float())\n",
    "        loss_list.append(loss.item())\n",
    "\n",
    "        optimizer.zero_grad()\n",
    "        loss.backward()\n",
    "        optimizer.step()\n",
    "\n",
    "        total = y_train[0][:j].size(0) + 1\n",
    "        predicted = int(outputs >= 0.5)\n",
    "        correct_list.append((predicted == y_train[0][j]).item())\n",
    "        acc_list.append(sum(correct_list) / total)\n",
    "\n",
    "        if (j + 1) % 1000 == 0:\n",
    "            print('Epoch [{}/{}], Step [{}/{}], Loss: {:.4f}, Accuracy: {:.2f}%'\n",
    "                  .format(epoch + 1, num_epochs, j + 1, n_batches, loss.item(),\n",
    "                          (sum(correct_list) / total)*100))"
   ]
  },
  {
   "cell_type": "code",
   "execution_count": 34,
   "metadata": {},
   "outputs": [],
   "source": [
    "torch.save(mlp, './torch_mlp_imdb.pt')"
   ]
  },
  {
   "cell_type": "markdown",
   "metadata": {},
   "source": [
    "Validating the model (AUC score)"
   ]
  },
  {
   "cell_type": "code",
   "execution_count": 32,
   "metadata": {},
   "outputs": [],
   "source": [
    "from sklearn.metrics import roc_auc_score"
   ]
  },
  {
   "cell_type": "code",
   "execution_count": 33,
   "metadata": {},
   "outputs": [
    {
     "data": {
      "text/plain": [
       "0.9503688380074755"
      ]
     },
     "execution_count": 33,
     "metadata": {},
     "output_type": "execute_result"
    }
   ],
   "source": [
    "X_test = torch.tensor(np.array([vec for vec in test['w2v'].values])).type('torch.FloatTensor')\n",
    "y_test = np.array([test['label'].astype(float)]).reshape(8250,)\n",
    "y_pred = mlp(X_test).t()\n",
    "roc_auc_score(y_test, y_pred.detach().numpy()[0])"
   ]
  },
  {
   "cell_type": "markdown",
   "metadata": {},
   "source": [
    "### Given Negative Condition"
   ]
  },
  {
   "cell_type": "code",
   "execution_count": 58,
   "metadata": {},
   "outputs": [],
   "source": [
    "dim = 100\n",
    "def model(sentiment):\n",
    "    emb_mean = torch.zeros(dim)\n",
    "    emb = pyro.sample('emb', Normal(emb_mean, torch.ones(dim)*10))\n",
    "    y = pyro.sample('y', Bernoulli(mlp(emb)), obs=sentiment)\n",
    "    return y"
   ]
  },
  {
   "cell_type": "code",
   "execution_count": 61,
   "metadata": {},
   "outputs": [],
   "source": [
    "nuts_kernel = NUTS(model, adapt_step_size=True)"
   ]
  },
  {
   "cell_type": "code",
   "execution_count": 62,
   "metadata": {},
   "outputs": [],
   "source": [
    "mcmc = MCMC(nuts_kernel, num_samples=10000, warmup_steps=1000)"
   ]
  },
  {
   "cell_type": "code",
   "execution_count": 63,
   "metadata": {},
   "outputs": [
    {
     "name": "stderr",
     "output_type": "stream",
     "text": [
      "sample: 100%|██████████| 11000/11000 [3:10:19<00:00,  1.30s/it, step size=6.09e-03, acc. prob=0.834] \n"
     ]
    }
   ],
   "source": [
    "mcmc.run(torch.zeros(1))"
   ]
  },
  {
   "cell_type": "code",
   "execution_count": 65,
   "metadata": {},
   "outputs": [],
   "source": [
    "emb_samples_largeVar_GivenNeg = mcmc.get_samples()['emb']"
   ]
  },
  {
   "cell_type": "code",
   "execution_count": 66,
   "metadata": {},
   "outputs": [
    {
     "data": {
      "text/plain": [
       "torch.Size([10000, 100])"
      ]
     },
     "execution_count": 66,
     "metadata": {},
     "output_type": "execute_result"
    }
   ],
   "source": [
    "emb_samples_largeVar_GivenNeg.shape"
   ]
  },
  {
   "cell_type": "code",
   "execution_count": 67,
   "metadata": {},
   "outputs": [],
   "source": [
    "with open('./imdbeddings_samples_largeVar_GivenNeg.pickle', 'wb') as f:\n",
    "    pickle.dump(emb_samples_largeVar_GivenNeg, f)"
   ]
  },
  {
   "cell_type": "code",
   "execution_count": 68,
   "metadata": {},
   "outputs": [],
   "source": [
    "from statsmodels.tsa.tsatools import lagmat"
   ]
  },
  {
   "cell_type": "code",
   "execution_count": 69,
   "metadata": {
    "scrolled": false
   },
   "outputs": [
    {
     "name": "stderr",
     "output_type": "stream",
     "text": [
      "/home/tozeng/anaconda3/lib/python3.7/site-packages/statsmodels/compat/pandas.py:23: FutureWarning: The Panel class is removed from pandas. Accessing it from the top-level namespace will also be removed in the next version\n",
      "  data_klasses = (pandas.Series, pandas.DataFrame, pandas.Panel)\n"
     ]
    },
    {
     "data": {
      "text/plain": [
       "<matplotlib.axes._subplots.AxesSubplot at 0x7f2ec06122b0>"
      ]
     },
     "execution_count": 69,
     "metadata": {},
     "output_type": "execute_result"
    },
    {
     "data": {
      "image/png": "[encoded data removed]",
      "text/plain": [
       "<Figure size 432x288 with 1 Axes>"
      ]
     },
     "metadata": {
      "needs_background": "light"
     },
     "output_type": "display_data"
    }
   ],
   "source": [
    "pd.DataFrame(lagmat(emb_samples_largeVar_GivenNeg[:][:, 15], 100, trim='backward')).corr().iloc[0, :].plot()\n",
    "# plt.savefig(\"autocorrelation_givenNeg.pdf\")"
   ]
  },
  {
   "cell_type": "markdown",
   "metadata": {},
   "source": [
    "### Validating"
   ]
  },
  {
   "cell_type": "code",
   "execution_count": 70,
   "metadata": {},
   "outputs": [],
   "source": [
    "from sklearn.decomposition import PCA"
   ]
  },
  {
   "cell_type": "code",
   "execution_count": 87,
   "metadata": {
    "scrolled": true
   },
   "outputs": [
    {
     "data": {
      "text/plain": [
       "PCA(copy=True, iterated_power='auto', n_components=2, random_state=None,\n",
       "    svd_solver='auto', tol=0.0, whiten=False)"
      ]
     },
     "execution_count": 87,
     "metadata": {},
     "output_type": "execute_result"
    }
   ],
   "source": [
    "negative_sample_pca = PCA(n_components=2)\n",
    "negative_sample_pca.fit(emb_samples_largeVar_GivenNeg.numpy())"
   ]
  },
  {
   "cell_type": "code",
   "execution_count": 88,
   "metadata": {},
   "outputs": [],
   "source": [
    "negative_pca_projection = negative_sample_pca.transform(emb_samples_largeVar_GivenNeg.numpy())"
   ]
  },
  {
   "cell_type": "code",
   "execution_count": 89,
   "metadata": {},
   "outputs": [
    {
     "data": {
      "text/plain": [
       "(10000, 2)"
      ]
     },
     "execution_count": 89,
     "metadata": {},
     "output_type": "execute_result"
    }
   ],
   "source": [
    "negative_pca_projection.shape"
   ]
  },
  {
   "cell_type": "code",
   "execution_count": 90,
   "metadata": {},
   "outputs": [
    {
     "data": {
      "image/png": "[encoded data removed]",
      "text/plain": [
       "<Figure size 432x288 with 1 Axes>"
      ]
     },
     "metadata": {
      "needs_background": "light"
     },
     "output_type": "display_data"
    }
   ],
   "source": [
    "plt.hist2d(x = negative_pca_projection[:, 0], y = negative_pca_projection[:, 1], bins = 50);"
   ]
  },
  {
   "cell_type": "markdown",
   "metadata": {},
   "source": [
    "### Loading sentiment dictionary\n"
   ]
  },
  {
   "cell_type": "code",
   "execution_count": 91,
   "metadata": {},
   "outputs": [],
   "source": [
    "sentiment_df = pd.read_csv('./sentiments.csv')"
   ]
  },
  {
   "cell_type": "code",
   "execution_count": 92,
   "metadata": {},
   "outputs": [],
   "source": [
    "from scipy.spatial.distance import cdist"
   ]
  },
  {
   "cell_type": "code",
   "execution_count": 77,
   "metadata": {},
   "outputs": [],
   "source": [
    "sentiment_embedding = {}\n",
    "sentiment_embedding['word'] = []\n",
    "sentiment_embedding['sentiment'] = []\n",
    "sentiment_embedding['embedding'] = []\n",
    "sentiment_embedding['distances'] = []\n",
    "for i in range(sentiment_df.shape[0]):\n",
    "    flag = False\n",
    "    word = sentiment_df.loc[i]['word']\n",
    "    try:\n",
    "        emb = w2v_dict[word]\n",
    "        flag = True\n",
    "    except KeyError:\n",
    "        flag = False\n",
    "    if flag:\n",
    "        sentiment_embedding['word'].append(word)\n",
    "        sentiment_embedding['sentiment'].append(sentiment_df.loc[i]['sentiment'])\n",
    "        sentiment_embedding['embedding'].append(emb)\n",
    "        sentiment_embedding['distances'].append(np.mean(cdist(emb_samples_largeVar_GivenNeg.detach().numpy(), emb.reshape(1, -1), metric='cosine')))\n",
    "    \n",
    "sentiment_embedding = pd.DataFrame(sentiment_embedding)"
   ]
  },
  {
   "cell_type": "code",
   "execution_count": 78,
   "metadata": {},
   "outputs": [
    {
     "data": {
      "text/html": [
       "<div>\n",
       "<style scoped>\n",
       "    .dataframe tbody tr th:only-of-type {\n",
       "        vertical-align: middle;\n",
       "    }\n",
       "\n",
       "    .dataframe tbody tr th {\n",
       "        vertical-align: top;\n",
       "    }\n",
       "\n",
       "    .dataframe thead th {\n",
       "        text-align: right;\n",
       "    }\n",
       "</style>\n",
       "<table border=\"1\" class=\"dataframe\">\n",
       "  <thead>\n",
       "    <tr style=\"text-align: right;\">\n",
       "      <th></th>\n",
       "      <th>word</th>\n",
       "      <th>sentiment</th>\n",
       "      <th>embedding</th>\n",
       "      <th>distances</th>\n",
       "    </tr>\n",
       "  </thead>\n",
       "  <tbody>\n",
       "    <tr>\n",
       "      <td>3995</td>\n",
       "      <td>dismally</td>\n",
       "      <td>-1</td>\n",
       "      <td>[-0.23783385753631592, -0.21346889436244965, -...</td>\n",
       "      <td>0.951609</td>\n",
       "    </tr>\n",
       "    <tr>\n",
       "      <td>3193</td>\n",
       "      <td>pathetically</td>\n",
       "      <td>-1</td>\n",
       "      <td>[0.13030953705310822, -0.23664695024490356, -0...</td>\n",
       "      <td>0.957248</td>\n",
       "    </tr>\n",
       "    <tr>\n",
       "      <td>2217</td>\n",
       "      <td>substandard</td>\n",
       "      <td>-1</td>\n",
       "      <td>[0.24860963225364685, -0.19480064511299133, -0...</td>\n",
       "      <td>0.957281</td>\n",
       "    </tr>\n",
       "    <tr>\n",
       "      <td>3008</td>\n",
       "      <td>hideously</td>\n",
       "      <td>-1</td>\n",
       "      <td>[0.18653205037117004, -0.36071667075157166, -0...</td>\n",
       "      <td>0.957371</td>\n",
       "    </tr>\n",
       "    <tr>\n",
       "      <td>1182</td>\n",
       "      <td>insultingly</td>\n",
       "      <td>-1</td>\n",
       "      <td>[0.017356403172016144, -0.3047421872615814, -0...</td>\n",
       "      <td>0.957735</td>\n",
       "    </tr>\n",
       "    <tr>\n",
       "      <td>2372</td>\n",
       "      <td>ugh</td>\n",
       "      <td>-1</td>\n",
       "      <td>[0.024805361405014992, -0.3277624547481537, 0....</td>\n",
       "      <td>0.959048</td>\n",
       "    </tr>\n",
       "    <tr>\n",
       "      <td>1520</td>\n",
       "      <td>obnoxiously</td>\n",
       "      <td>-1</td>\n",
       "      <td>[0.06495609879493713, -0.25265371799468994, 0....</td>\n",
       "      <td>0.959332</td>\n",
       "    </tr>\n",
       "    <tr>\n",
       "      <td>2126</td>\n",
       "      <td>squealing</td>\n",
       "      <td>-1</td>\n",
       "      <td>[0.0036858415696769953, -0.13834598660469055, ...</td>\n",
       "      <td>0.959393</td>\n",
       "    </tr>\n",
       "    <tr>\n",
       "      <td>1105</td>\n",
       "      <td>inconsistency</td>\n",
       "      <td>-1</td>\n",
       "      <td>[0.20494423806667328, -0.06296195089817047, -0...</td>\n",
       "      <td>0.959908</td>\n",
       "    </tr>\n",
       "    <tr>\n",
       "      <td>2629</td>\n",
       "      <td>dreadfully</td>\n",
       "      <td>-1</td>\n",
       "      <td>[-0.03835845738649368, -0.28790631890296936, -...</td>\n",
       "      <td>0.960330</td>\n",
       "    </tr>\n",
       "  </tbody>\n",
       "</table>\n",
       "</div>"
      ],
      "text/plain": [
       "               word  sentiment  \\\n",
       "3995       dismally         -1   \n",
       "3193   pathetically         -1   \n",
       "2217    substandard         -1   \n",
       "3008      hideously         -1   \n",
       "1182    insultingly         -1   \n",
       "2372            ugh         -1   \n",
       "1520    obnoxiously         -1   \n",
       "2126      squealing         -1   \n",
       "1105  inconsistency         -1   \n",
       "2629     dreadfully         -1   \n",
       "\n",
       "                                              embedding  distances  \n",
       "3995  [-0.23783385753631592, -0.21346889436244965, -...   0.951609  \n",
       "3193  [0.13030953705310822, -0.23664695024490356, -0...   0.957248  \n",
       "2217  [0.24860963225364685, -0.19480064511299133, -0...   0.957281  \n",
       "3008  [0.18653205037117004, -0.36071667075157166, -0...   0.957371  \n",
       "1182  [0.017356403172016144, -0.3047421872615814, -0...   0.957735  \n",
       "2372  [0.024805361405014992, -0.3277624547481537, 0....   0.959048  \n",
       "1520  [0.06495609879493713, -0.25265371799468994, 0....   0.959332  \n",
       "2126  [0.0036858415696769953, -0.13834598660469055, ...   0.959393  \n",
       "1105  [0.20494423806667328, -0.06296195089817047, -0...   0.959908  \n",
       "2629  [-0.03835845738649368, -0.28790631890296936, -...   0.960330  "
      ]
     },
     "execution_count": 78,
     "metadata": {},
     "output_type": "execute_result"
    }
   ],
   "source": [
    "sentiment_embedding.sort_values(by='distances')[:10]"
   ]
  },
  {
   "cell_type": "code",
   "execution_count": 79,
   "metadata": {},
   "outputs": [
    {
     "data": {
      "text/html": [
       "<div>\n",
       "<style scoped>\n",
       "    .dataframe tbody tr th:only-of-type {\n",
       "        vertical-align: middle;\n",
       "    }\n",
       "\n",
       "    .dataframe tbody tr th {\n",
       "        vertical-align: top;\n",
       "    }\n",
       "\n",
       "    .dataframe thead th {\n",
       "        text-align: right;\n",
       "    }\n",
       "</style>\n",
       "<table border=\"1\" class=\"dataframe\">\n",
       "  <thead>\n",
       "    <tr style=\"text-align: right;\">\n",
       "      <th></th>\n",
       "      <th>word</th>\n",
       "      <th>sentiment</th>\n",
       "      <th>embedding</th>\n",
       "      <th>distances</th>\n",
       "    </tr>\n",
       "  </thead>\n",
       "  <tbody>\n",
       "    <tr>\n",
       "      <td>188</td>\n",
       "      <td>magical</td>\n",
       "      <td>1</td>\n",
       "      <td>[0.21849659085273743, 0.11799633502960205, -0....</td>\n",
       "      <td>1.031252</td>\n",
       "    </tr>\n",
       "    <tr>\n",
       "      <td>1146</td>\n",
       "      <td>infuriated</td>\n",
       "      <td>-1</td>\n",
       "      <td>[0.18906188011169434, 0.0203684214502573, 0.02...</td>\n",
       "      <td>1.031736</td>\n",
       "    </tr>\n",
       "    <tr>\n",
       "      <td>614</td>\n",
       "      <td>supremacy</td>\n",
       "      <td>1</td>\n",
       "      <td>[-0.022780627012252808, -0.4054063558578491, 0...</td>\n",
       "      <td>1.031983</td>\n",
       "    </tr>\n",
       "    <tr>\n",
       "      <td>2989</td>\n",
       "      <td>heartbreaking</td>\n",
       "      <td>-1</td>\n",
       "      <td>[0.145084947347641, -0.22929060459136963, -0.0...</td>\n",
       "      <td>1.032328</td>\n",
       "    </tr>\n",
       "    <tr>\n",
       "      <td>2393</td>\n",
       "      <td>uncompromising</td>\n",
       "      <td>-1</td>\n",
       "      <td>[0.18212787806987762, 0.09921543300151825, -0....</td>\n",
       "      <td>1.032637</td>\n",
       "    </tr>\n",
       "    <tr>\n",
       "      <td>127</td>\n",
       "      <td>invigorating</td>\n",
       "      <td>1</td>\n",
       "      <td>[-0.048400264233350754, -0.10901805758476257, ...</td>\n",
       "      <td>1.032862</td>\n",
       "    </tr>\n",
       "    <tr>\n",
       "      <td>1585</td>\n",
       "      <td>amazing</td>\n",
       "      <td>1</td>\n",
       "      <td>[0.11927023530006409, 0.12507511675357819, -0....</td>\n",
       "      <td>1.032942</td>\n",
       "    </tr>\n",
       "    <tr>\n",
       "      <td>1719</td>\n",
       "      <td>cherished</td>\n",
       "      <td>1</td>\n",
       "      <td>[-0.16097693145275116, 0.26282617449760437, -0...</td>\n",
       "      <td>1.033271</td>\n",
       "    </tr>\n",
       "    <tr>\n",
       "      <td>750</td>\n",
       "      <td>wonderful</td>\n",
       "      <td>1</td>\n",
       "      <td>[-0.0015268155839294195, 0.18429306149482727, ...</td>\n",
       "      <td>1.033761</td>\n",
       "    </tr>\n",
       "    <tr>\n",
       "      <td>693</td>\n",
       "      <td>unforgettable</td>\n",
       "      <td>1</td>\n",
       "      <td>[0.14442679286003113, 0.3309657871723175, -0.6...</td>\n",
       "      <td>1.037948</td>\n",
       "    </tr>\n",
       "  </tbody>\n",
       "</table>\n",
       "</div>"
      ],
      "text/plain": [
       "                word  sentiment  \\\n",
       "188          magical          1   \n",
       "1146      infuriated         -1   \n",
       "614        supremacy          1   \n",
       "2989   heartbreaking         -1   \n",
       "2393  uncompromising         -1   \n",
       "127     invigorating          1   \n",
       "1585         amazing          1   \n",
       "1719       cherished          1   \n",
       "750        wonderful          1   \n",
       "693    unforgettable          1   \n",
       "\n",
       "                                              embedding  distances  \n",
       "188   [0.21849659085273743, 0.11799633502960205, -0....   1.031252  \n",
       "1146  [0.18906188011169434, 0.0203684214502573, 0.02...   1.031736  \n",
       "614   [-0.022780627012252808, -0.4054063558578491, 0...   1.031983  \n",
       "2989  [0.145084947347641, -0.22929060459136963, -0.0...   1.032328  \n",
       "2393  [0.18212787806987762, 0.09921543300151825, -0....   1.032637  \n",
       "127   [-0.048400264233350754, -0.10901805758476257, ...   1.032862  \n",
       "1585  [0.11927023530006409, 0.12507511675357819, -0....   1.032942  \n",
       "1719  [-0.16097693145275116, 0.26282617449760437, -0...   1.033271  \n",
       "750   [-0.0015268155839294195, 0.18429306149482727, ...   1.033761  \n",
       "693   [0.14442679286003113, 0.3309657871723175, -0.6...   1.037948  "
      ]
     },
     "execution_count": 79,
     "metadata": {},
     "output_type": "execute_result"
    }
   ],
   "source": [
    "sentiment_embedding.sort_values(by='distances')[-10:]"
   ]
  },
  {
   "cell_type": "code",
   "execution_count": 80,
   "metadata": {
    "scrolled": true
   },
   "outputs": [],
   "source": [
    "sentiment_embedding.sort_values(by='distances')[:10].to_csv('./first10_distances_sentiment_negative.csv')\n",
    "sentiment_embedding.sort_values(by='distances')[-10:].to_csv('./last10_distances_sentiment_negative.csv')"
   ]
  },
  {
   "cell_type": "code",
   "execution_count": 100,
   "metadata": {},
   "outputs": [],
   "source": [
    "positive_dict = [] \n",
    "for word in sentiment_df[sentiment_df['sentiment'] == 1]['word'].values:\n",
    "    flag = False\n",
    "    try:\n",
    "        emb = w2v_dict[word]\n",
    "        flag = True\n",
    "    except KeyError:\n",
    "        flag = False\n",
    "    if flag:\n",
    "        positive_dict.append([np.dot((w2v_dict[word] - negative_sample_pca.mean_), negative_sample_pca.components_[0]), np.dot((w2v_dict[word] - negative_sample_pca.mean_), negative_sample_pca.components_[1])])\n",
    "        \n",
    "positive_dict = np.array(positive_dict)"
   ]
  },
  {
   "cell_type": "code",
   "execution_count": 101,
   "metadata": {},
   "outputs": [],
   "source": [
    "negative_dict = [] \n",
    "for word in sentiment_df[sentiment_df['sentiment'] == -1]['word'].values:\n",
    "    flag = False\n",
    "    try:\n",
    "        emb = w2v_dict[word]\n",
    "        flag = True\n",
    "    except KeyError:\n",
    "        flag = False\n",
    "    if flag:\n",
    "        negative_dict.append([np.dot((w2v_dict[word] - negative_sample_pca.mean_), negative_sample_pca.components_[0]), np.dot((w2v_dict[word] - negative_sample_pca.mean_), negative_sample_pca.components_[1])])\n",
    "        \n",
    "negative_dict = np.array(negative_dict)"
   ]
  },
  {
   "cell_type": "code",
   "execution_count": 102,
   "metadata": {
    "scrolled": false
   },
   "outputs": [
    {
     "data": {
      "image/png": "[encoded data removed]",
      "text/plain": [
       "<Figure size 432x288 with 1 Axes>"
      ]
     },
     "metadata": {
      "needs_background": "light"
     },
     "output_type": "display_data"
    }
   ],
   "source": [
    "plt.hist2d(x = negative_dict[:, 0], y = negative_dict[:, 1], bins = 80);"
   ]
  },
  {
   "cell_type": "code",
   "execution_count": 103,
   "metadata": {},
   "outputs": [
    {
     "data": {
      "image/png": "[encoded data removed]",
      "text/plain": [
       "<Figure size 432x288 with 1 Axes>"
      ]
     },
     "metadata": {
      "needs_background": "light"
     },
     "output_type": "display_data"
    }
   ],
   "source": [
    "plt.hist2d(x = positive_dict[:, 0], y = positive_dict[:, 1], bins = 80);"
   ]
  },
  {
   "cell_type": "code",
   "execution_count": 104,
   "metadata": {},
   "outputs": [],
   "source": [
    "from scipy.stats import multivariate_normal"
   ]
  },
  {
   "cell_type": "code",
   "execution_count": 106,
   "metadata": {
    "scrolled": true
   },
   "outputs": [
    {
     "data": {
      "text/plain": [
       "(10000, 2)"
      ]
     },
     "execution_count": 106,
     "metadata": {},
     "output_type": "execute_result"
    }
   ],
   "source": [
    "negative_pca_projection.shape"
   ]
  },
  {
   "cell_type": "code",
   "execution_count": 107,
   "metadata": {},
   "outputs": [],
   "source": [
    "from scipy.stats import multivariate_normal"
   ]
  },
  {
   "cell_type": "code",
   "execution_count": 108,
   "metadata": {},
   "outputs": [
    {
     "data": {
      "text/plain": [
       "-371.1514807030814"
      ]
     },
     "execution_count": 108,
     "metadata": {},
     "output_type": "execute_result"
    }
   ],
   "source": [
    "emb_mean_GivenNeg = [np.mean(emb_samples_largeVar_GivenNeg.numpy()[:, i]) for i in range(emb_samples_largeVar_GivenNeg.numpy().shape[1])]\n",
    "emb_cov_GivenNeg = np.cov([emb_samples_largeVar_GivenNeg.numpy()[:, i] for i in range(emb_samples_largeVar_GivenNeg.numpy().shape[1])])\n",
    "rv_GivenNeg = multivariate_normal(emb_mean_GivenNeg, emb_cov_GivenNeg)\n",
    "np.mean([rv_GivenNeg.logpdf(projection) for projection in emb_samples_largeVar_GivenNeg.numpy()])"
   ]
  },
  {
   "cell_type": "code",
   "execution_count": 109,
   "metadata": {},
   "outputs": [],
   "source": [
    "emb_dictionary_GivenNeg_df = {} \n",
    "emb_dictionary_GivenNeg_df['words'] = []\n",
    "emb_dictionary_GivenNeg_df['sentiment'] = []\n",
    "emb_dictionary_GivenNeg_df['embeddings'] = []\n",
    "emb_dictionary_GivenNeg_df['log-likelihood'] = []\n",
    "for sentiment in sentiment_df.values:\n",
    "    flag = False\n",
    "    try:\n",
    "        emb = w2v_dict[sentiment[0]]\n",
    "        flag = True\n",
    "    except KeyError:\n",
    "        flag = False\n",
    "    if flag:\n",
    "        emb_dictionary_GivenNeg_df['words'].append(sentiment[0])\n",
    "        emb_dictionary_GivenNeg_df['sentiment'].append(sentiment[1])\n",
    "        emb_dictionary_GivenNeg_df['embeddings'].append(emb)\n",
    "        emb_dictionary_GivenNeg_df['log-likelihood'].append(rv_GivenNeg.logpdf(emb))\n",
    "        \n",
    "emb_dictionary_GivenNeg_df = pd.DataFrame(emb_dictionary_GivenNeg_df)"
   ]
  },
  {
   "cell_type": "code",
   "execution_count": 110,
   "metadata": {},
   "outputs": [
    {
     "data": {
      "text/html": [
       "<div>\n",
       "<style scoped>\n",
       "    .dataframe tbody tr th:only-of-type {\n",
       "        vertical-align: middle;\n",
       "    }\n",
       "\n",
       "    .dataframe tbody tr th {\n",
       "        vertical-align: top;\n",
       "    }\n",
       "\n",
       "    .dataframe thead th {\n",
       "        text-align: right;\n",
       "    }\n",
       "</style>\n",
       "<table border=\"1\" class=\"dataframe\">\n",
       "  <thead>\n",
       "    <tr style=\"text-align: right;\">\n",
       "      <th></th>\n",
       "      <th>words</th>\n",
       "      <th>sentiment</th>\n",
       "      <th>embeddings</th>\n",
       "      <th>log-likelihood</th>\n",
       "    </tr>\n",
       "  </thead>\n",
       "  <tbody>\n",
       "    <tr>\n",
       "      <td>0</td>\n",
       "      <td>gratefully</td>\n",
       "      <td>1</td>\n",
       "      <td>[0.005955322179943323, 0.02346520870923996, -0...</td>\n",
       "      <td>-322.105599</td>\n",
       "    </tr>\n",
       "    <tr>\n",
       "      <td>1</td>\n",
       "      <td>gratification</td>\n",
       "      <td>1</td>\n",
       "      <td>[-0.05209058150649071, -0.3081643581390381, -0...</td>\n",
       "      <td>-322.100586</td>\n",
       "    </tr>\n",
       "    <tr>\n",
       "      <td>2</td>\n",
       "      <td>gratifying</td>\n",
       "      <td>1</td>\n",
       "      <td>[-0.11205840110778809, -0.04113186523318291, -...</td>\n",
       "      <td>-322.164618</td>\n",
       "    </tr>\n",
       "    <tr>\n",
       "      <td>3</td>\n",
       "      <td>gratitude</td>\n",
       "      <td>1</td>\n",
       "      <td>[0.1427360326051712, 0.07226621359586716, 0.12...</td>\n",
       "      <td>-322.140945</td>\n",
       "    </tr>\n",
       "    <tr>\n",
       "      <td>4</td>\n",
       "      <td>great</td>\n",
       "      <td>1</td>\n",
       "      <td>[-0.07837092131376266, 0.13507212698459625, -0...</td>\n",
       "      <td>-322.216625</td>\n",
       "    </tr>\n",
       "  </tbody>\n",
       "</table>\n",
       "</div>"
      ],
      "text/plain": [
       "           words  sentiment  \\\n",
       "0     gratefully          1   \n",
       "1  gratification          1   \n",
       "2     gratifying          1   \n",
       "3      gratitude          1   \n",
       "4          great          1   \n",
       "\n",
       "                                          embeddings  log-likelihood  \n",
       "0  [0.005955322179943323, 0.02346520870923996, -0...     -322.105599  \n",
       "1  [-0.05209058150649071, -0.3081643581390381, -0...     -322.100586  \n",
       "2  [-0.11205840110778809, -0.04113186523318291, -...     -322.164618  \n",
       "3  [0.1427360326051712, 0.07226621359586716, 0.12...     -322.140945  \n",
       "4  [-0.07837092131376266, 0.13507212698459625, -0...     -322.216625  "
      ]
     },
     "execution_count": 110,
     "metadata": {},
     "output_type": "execute_result"
    }
   ],
   "source": [
    "emb_dictionary_GivenNeg_df.head()"
   ]
  },
  {
   "cell_type": "code",
   "execution_count": 111,
   "metadata": {
    "scrolled": true
   },
   "outputs": [
    {
     "data": {
      "text/html": [
       "<div>\n",
       "<style scoped>\n",
       "    .dataframe tbody tr th:only-of-type {\n",
       "        vertical-align: middle;\n",
       "    }\n",
       "\n",
       "    .dataframe tbody tr th {\n",
       "        vertical-align: top;\n",
       "    }\n",
       "\n",
       "    .dataframe thead th {\n",
       "        text-align: right;\n",
       "    }\n",
       "</style>\n",
       "<table border=\"1\" class=\"dataframe\">\n",
       "  <thead>\n",
       "    <tr style=\"text-align: right;\">\n",
       "      <th></th>\n",
       "      <th>words</th>\n",
       "      <th>log-likelihood</th>\n",
       "      <th>sentiment</th>\n",
       "    </tr>\n",
       "  </thead>\n",
       "  <tbody>\n",
       "    <tr>\n",
       "      <td>965</td>\n",
       "      <td>bland</td>\n",
       "      <td>-321.955991</td>\n",
       "      <td>-1</td>\n",
       "    </tr>\n",
       "    <tr>\n",
       "      <td>1121</td>\n",
       "      <td>inept</td>\n",
       "      <td>-321.955837</td>\n",
       "      <td>-1</td>\n",
       "    </tr>\n",
       "    <tr>\n",
       "      <td>3334</td>\n",
       "      <td>redundant</td>\n",
       "      <td>-321.955585</td>\n",
       "      <td>-1</td>\n",
       "    </tr>\n",
       "    <tr>\n",
       "      <td>2419</td>\n",
       "      <td>uneventful</td>\n",
       "      <td>-321.952809</td>\n",
       "      <td>-1</td>\n",
       "    </tr>\n",
       "    <tr>\n",
       "      <td>1388</td>\n",
       "      <td>mess</td>\n",
       "      <td>-321.950902</td>\n",
       "      <td>-1</td>\n",
       "    </tr>\n",
       "    <tr>\n",
       "      <td>1182</td>\n",
       "      <td>insultingly</td>\n",
       "      <td>-321.950830</td>\n",
       "      <td>-1</td>\n",
       "    </tr>\n",
       "    <tr>\n",
       "      <td>2281</td>\n",
       "      <td>tedious</td>\n",
       "      <td>-321.949007</td>\n",
       "      <td>-1</td>\n",
       "    </tr>\n",
       "    <tr>\n",
       "      <td>1295</td>\n",
       "      <td>lifeless</td>\n",
       "      <td>-321.948612</td>\n",
       "      <td>-1</td>\n",
       "    </tr>\n",
       "    <tr>\n",
       "      <td>1179</td>\n",
       "      <td>insult</td>\n",
       "      <td>-321.947652</td>\n",
       "      <td>-1</td>\n",
       "    </tr>\n",
       "    <tr>\n",
       "      <td>2601</td>\n",
       "      <td>worthless</td>\n",
       "      <td>-321.947547</td>\n",
       "      <td>-1</td>\n",
       "    </tr>\n",
       "    <tr>\n",
       "      <td>2372</td>\n",
       "      <td>ugh</td>\n",
       "      <td>-321.946811</td>\n",
       "      <td>-1</td>\n",
       "    </tr>\n",
       "    <tr>\n",
       "      <td>3015</td>\n",
       "      <td>hopelessly</td>\n",
       "      <td>-321.946070</td>\n",
       "      <td>-1</td>\n",
       "    </tr>\n",
       "    <tr>\n",
       "      <td>3231</td>\n",
       "      <td>pitiful</td>\n",
       "      <td>-321.945214</td>\n",
       "      <td>-1</td>\n",
       "    </tr>\n",
       "    <tr>\n",
       "      <td>1152</td>\n",
       "      <td>injury</td>\n",
       "      <td>-321.944257</td>\n",
       "      <td>-1</td>\n",
       "    </tr>\n",
       "    <tr>\n",
       "      <td>2701</td>\n",
       "      <td>excuse</td>\n",
       "      <td>-321.943811</td>\n",
       "      <td>-1</td>\n",
       "    </tr>\n",
       "    <tr>\n",
       "      <td>2629</td>\n",
       "      <td>dreadfully</td>\n",
       "      <td>-321.942862</td>\n",
       "      <td>-1</td>\n",
       "    </tr>\n",
       "    <tr>\n",
       "      <td>3008</td>\n",
       "      <td>hideously</td>\n",
       "      <td>-321.942285</td>\n",
       "      <td>-1</td>\n",
       "    </tr>\n",
       "    <tr>\n",
       "      <td>3995</td>\n",
       "      <td>dismally</td>\n",
       "      <td>-321.940765</td>\n",
       "      <td>-1</td>\n",
       "    </tr>\n",
       "    <tr>\n",
       "      <td>3268</td>\n",
       "      <td>pretentious</td>\n",
       "      <td>-321.936271</td>\n",
       "      <td>-1</td>\n",
       "    </tr>\n",
       "    <tr>\n",
       "      <td>1407</td>\n",
       "      <td>miserably</td>\n",
       "      <td>-321.935803</td>\n",
       "      <td>-1</td>\n",
       "    </tr>\n",
       "  </tbody>\n",
       "</table>\n",
       "</div>"
      ],
      "text/plain": [
       "            words  log-likelihood  sentiment\n",
       "965         bland     -321.955991         -1\n",
       "1121        inept     -321.955837         -1\n",
       "3334    redundant     -321.955585         -1\n",
       "2419   uneventful     -321.952809         -1\n",
       "1388         mess     -321.950902         -1\n",
       "1182  insultingly     -321.950830         -1\n",
       "2281      tedious     -321.949007         -1\n",
       "1295     lifeless     -321.948612         -1\n",
       "1179       insult     -321.947652         -1\n",
       "2601    worthless     -321.947547         -1\n",
       "2372          ugh     -321.946811         -1\n",
       "3015   hopelessly     -321.946070         -1\n",
       "3231      pitiful     -321.945214         -1\n",
       "1152       injury     -321.944257         -1\n",
       "2701       excuse     -321.943811         -1\n",
       "2629   dreadfully     -321.942862         -1\n",
       "3008    hideously     -321.942285         -1\n",
       "3995     dismally     -321.940765         -1\n",
       "3268  pretentious     -321.936271         -1\n",
       "1407    miserably     -321.935803         -1"
      ]
     },
     "execution_count": 111,
     "metadata": {},
     "output_type": "execute_result"
    }
   ],
   "source": [
    "emb_dictionary_GivenNeg_df.sort_values(by=['log-likelihood'])[['words', 'log-likelihood', 'sentiment']][-20:]"
   ]
  },
  {
   "cell_type": "code",
   "execution_count": 112,
   "metadata": {
    "scrolled": true
   },
   "outputs": [
    {
     "data": {
      "text/html": [
       "<div>\n",
       "<style scoped>\n",
       "    .dataframe tbody tr th:only-of-type {\n",
       "        vertical-align: middle;\n",
       "    }\n",
       "\n",
       "    .dataframe tbody tr th {\n",
       "        vertical-align: top;\n",
       "    }\n",
       "\n",
       "    .dataframe thead th {\n",
       "        text-align: right;\n",
       "    }\n",
       "</style>\n",
       "<table border=\"1\" class=\"dataframe\">\n",
       "  <thead>\n",
       "    <tr style=\"text-align: right;\">\n",
       "      <th></th>\n",
       "      <th>words</th>\n",
       "      <th>log-likelihood</th>\n",
       "      <th>sentiment</th>\n",
       "    </tr>\n",
       "  </thead>\n",
       "  <tbody>\n",
       "    <tr>\n",
       "      <td>3935</td>\n",
       "      <td>din</td>\n",
       "      <td>-322.343074</td>\n",
       "      <td>-1</td>\n",
       "    </tr>\n",
       "    <tr>\n",
       "      <td>2378</td>\n",
       "      <td>ultimatum</td>\n",
       "      <td>-322.340085</td>\n",
       "      <td>-1</td>\n",
       "    </tr>\n",
       "    <tr>\n",
       "      <td>693</td>\n",
       "      <td>unforgettable</td>\n",
       "      <td>-322.313937</td>\n",
       "      <td>1</td>\n",
       "    </tr>\n",
       "    <tr>\n",
       "      <td>614</td>\n",
       "      <td>supremacy</td>\n",
       "      <td>-322.295272</td>\n",
       "      <td>1</td>\n",
       "    </tr>\n",
       "    <tr>\n",
       "      <td>3463</td>\n",
       "      <td>scariest</td>\n",
       "      <td>-322.293876</td>\n",
       "      <td>-1</td>\n",
       "    </tr>\n",
       "    <tr>\n",
       "      <td>402</td>\n",
       "      <td>recommended</td>\n",
       "      <td>-322.281609</td>\n",
       "      <td>1</td>\n",
       "    </tr>\n",
       "    <tr>\n",
       "      <td>1989</td>\n",
       "      <td>favorite</td>\n",
       "      <td>-322.281243</td>\n",
       "      <td>1</td>\n",
       "    </tr>\n",
       "    <tr>\n",
       "      <td>2989</td>\n",
       "      <td>heartbreaking</td>\n",
       "      <td>-322.278727</td>\n",
       "      <td>-1</td>\n",
       "    </tr>\n",
       "    <tr>\n",
       "      <td>2923</td>\n",
       "      <td>gritty</td>\n",
       "      <td>-322.278637</td>\n",
       "      <td>-1</td>\n",
       "    </tr>\n",
       "    <tr>\n",
       "      <td>1680</td>\n",
       "      <td>breathtaking</td>\n",
       "      <td>-322.278609</td>\n",
       "      <td>1</td>\n",
       "    </tr>\n",
       "    <tr>\n",
       "      <td>32</td>\n",
       "      <td>heartwarming</td>\n",
       "      <td>-322.277706</td>\n",
       "      <td>1</td>\n",
       "    </tr>\n",
       "    <tr>\n",
       "      <td>2044</td>\n",
       "      <td>gem</td>\n",
       "      <td>-322.276854</td>\n",
       "      <td>1</td>\n",
       "    </tr>\n",
       "    <tr>\n",
       "      <td>1648</td>\n",
       "      <td>beautifully</td>\n",
       "      <td>-322.272964</td>\n",
       "      <td>1</td>\n",
       "    </tr>\n",
       "    <tr>\n",
       "      <td>298</td>\n",
       "      <td>pleasantly</td>\n",
       "      <td>-322.270376</td>\n",
       "      <td>1</td>\n",
       "    </tr>\n",
       "    <tr>\n",
       "      <td>188</td>\n",
       "      <td>magical</td>\n",
       "      <td>-322.266032</td>\n",
       "      <td>1</td>\n",
       "    </tr>\n",
       "    <tr>\n",
       "      <td>750</td>\n",
       "      <td>wonderful</td>\n",
       "      <td>-322.262705</td>\n",
       "      <td>1</td>\n",
       "    </tr>\n",
       "    <tr>\n",
       "      <td>649</td>\n",
       "      <td>thrilling</td>\n",
       "      <td>-322.261665</td>\n",
       "      <td>1</td>\n",
       "    </tr>\n",
       "    <tr>\n",
       "      <td>309</td>\n",
       "      <td>poignant</td>\n",
       "      <td>-322.261627</td>\n",
       "      <td>1</td>\n",
       "    </tr>\n",
       "    <tr>\n",
       "      <td>604</td>\n",
       "      <td>superb</td>\n",
       "      <td>-322.260995</td>\n",
       "      <td>1</td>\n",
       "    </tr>\n",
       "    <tr>\n",
       "      <td>2393</td>\n",
       "      <td>uncompromising</td>\n",
       "      <td>-322.260777</td>\n",
       "      <td>-1</td>\n",
       "    </tr>\n",
       "  </tbody>\n",
       "</table>\n",
       "</div>"
      ],
      "text/plain": [
       "               words  log-likelihood  sentiment\n",
       "3935             din     -322.343074         -1\n",
       "2378       ultimatum     -322.340085         -1\n",
       "693    unforgettable     -322.313937          1\n",
       "614        supremacy     -322.295272          1\n",
       "3463        scariest     -322.293876         -1\n",
       "402      recommended     -322.281609          1\n",
       "1989        favorite     -322.281243          1\n",
       "2989   heartbreaking     -322.278727         -1\n",
       "2923          gritty     -322.278637         -1\n",
       "1680    breathtaking     -322.278609          1\n",
       "32      heartwarming     -322.277706          1\n",
       "2044             gem     -322.276854          1\n",
       "1648     beautifully     -322.272964          1\n",
       "298       pleasantly     -322.270376          1\n",
       "188          magical     -322.266032          1\n",
       "750        wonderful     -322.262705          1\n",
       "649        thrilling     -322.261665          1\n",
       "309         poignant     -322.261627          1\n",
       "604           superb     -322.260995          1\n",
       "2393  uncompromising     -322.260777         -1"
      ]
     },
     "execution_count": 112,
     "metadata": {},
     "output_type": "execute_result"
    }
   ],
   "source": [
    "emb_dictionary_GivenNeg_df.sort_values(by=['log-likelihood'])[['words', 'log-likelihood', 'sentiment']][:20]"
   ]
  },
  {
   "cell_type": "markdown",
   "metadata": {},
   "source": [
    "   "
   ]
  },
  {
   "cell_type": "markdown",
   "metadata": {},
   "source": [
    "### Given Positive Condition"
   ]
  },
  {
   "cell_type": "code",
   "execution_count": 113,
   "metadata": {},
   "outputs": [],
   "source": [
    "dim = 100\n",
    "def model(sentiment):\n",
    "    emb_mean = torch.zeros(dim)\n",
    "    emb = pyro.sample('emb', Normal(emb_mean, torch.ones(dim) * 10))\n",
    "    y = pyro.sample('y', Bernoulli(mlp(emb)), obs=sentiment)\n",
    "    return y"
   ]
  },
  {
   "cell_type": "code",
   "execution_count": 114,
   "metadata": {},
   "outputs": [
    {
     "data": {
      "text/plain": [
       "Bernoulli(probs: tensor([0.9806], grad_fn=<SigmoidBackward>))"
      ]
     },
     "execution_count": 114,
     "metadata": {},
     "output_type": "execute_result"
    }
   ],
   "source": [
    "Bernoulli(mlp(X_test[0]))"
   ]
  },
  {
   "cell_type": "code",
   "execution_count": 115,
   "metadata": {},
   "outputs": [],
   "source": [
    "nuts_kernel = NUTS(model, adapt_step_size=True)"
   ]
  },
  {
   "cell_type": "code",
   "execution_count": 116,
   "metadata": {},
   "outputs": [],
   "source": [
    "mcmc = MCMC(nuts_kernel, num_samples=10000, warmup_steps=1000)"
   ]
  },
  {
   "cell_type": "code",
   "execution_count": 117,
   "metadata": {
    "scrolled": true
   },
   "outputs": [
    {
     "name": "stderr",
     "output_type": "stream",
     "text": [
      "sample: 100%|██████████| 11000/11000 [1:40:07<00:00,  1.93it/s, step size=2.05e-02, acc. prob=0.719]\n"
     ]
    }
   ],
   "source": [
    "mcmc.run(torch.ones(1))"
   ]
  },
  {
   "cell_type": "code",
   "execution_count": 118,
   "metadata": {},
   "outputs": [],
   "source": [
    "emb_samples_largeVar = mcmc.get_samples()['emb']"
   ]
  },
  {
   "cell_type": "code",
   "execution_count": 119,
   "metadata": {},
   "outputs": [
    {
     "data": {
      "text/plain": [
       "torch.Size([10000, 100])"
      ]
     },
     "execution_count": 119,
     "metadata": {},
     "output_type": "execute_result"
    }
   ],
   "source": [
    "emb_samples_largeVar.shape"
   ]
  },
  {
   "cell_type": "code",
   "execution_count": 120,
   "metadata": {},
   "outputs": [],
   "source": [
    "with open('./imdbeddings_samples_largeVar.pickle', 'wb') as f:\n",
    "    pickle.dump(emb_samples_largeVar, f)"
   ]
  },
  {
   "cell_type": "code",
   "execution_count": 122,
   "metadata": {},
   "outputs": [
    {
     "data": {
      "text/plain": [
       "<matplotlib.axes._subplots.AxesSubplot at 0x7f2e87567eb8>"
      ]
     },
     "execution_count": 122,
     "metadata": {},
     "output_type": "execute_result"
    },
    {
     "data": {
      "image/png": "[encoded data removed]",
      "text/plain": [
       "<Figure size 432x288 with 1 Axes>"
      ]
     },
     "metadata": {
      "needs_background": "light"
     },
     "output_type": "display_data"
    }
   ],
   "source": [
    "pd.DataFrame(lagmat(emb_samples_largeVar[:][:, 15], 100, trim='backward')).corr().iloc[0, :].plot()\n",
    "# plt.savefig(\"autocorrelation_givenNeg.pdf\")"
   ]
  },
  {
   "cell_type": "code",
   "execution_count": 123,
   "metadata": {},
   "outputs": [],
   "source": [
    "sentiment_embedding = {}\n",
    "sentiment_embedding['word'] = []\n",
    "sentiment_embedding['sentiment'] = []\n",
    "sentiment_embedding['embedding'] = []\n",
    "sentiment_embedding['distances'] = []\n",
    "for i in range(sentiment_df.shape[0]):\n",
    "    flag = False\n",
    "    word = sentiment_df.loc[i]['word']\n",
    "    try:\n",
    "        emb = w2v_dict[word]\n",
    "        flag = True\n",
    "    except KeyError:\n",
    "        flag = False\n",
    "    if flag:\n",
    "        sentiment_embedding['word'].append(word)\n",
    "        sentiment_embedding['sentiment'].append(sentiment_df.loc[i]['sentiment'])\n",
    "        sentiment_embedding['embedding'].append(emb)\n",
    "        sentiment_embedding['distances'].append(np.mean(cdist(emb_samples_largeVar.detach().numpy(), emb.reshape(1, -1), metric='cosine')))\n",
    "    \n",
    "sentiment_embedding = pd.DataFrame(sentiment_embedding)"
   ]
  },
  {
   "cell_type": "code",
   "execution_count": 124,
   "metadata": {},
   "outputs": [
    {
     "data": {
      "text/html": [
       "<div>\n",
       "<style scoped>\n",
       "    .dataframe tbody tr th:only-of-type {\n",
       "        vertical-align: middle;\n",
       "    }\n",
       "\n",
       "    .dataframe tbody tr th {\n",
       "        vertical-align: top;\n",
       "    }\n",
       "\n",
       "    .dataframe thead th {\n",
       "        text-align: right;\n",
       "    }\n",
       "</style>\n",
       "<table border=\"1\" class=\"dataframe\">\n",
       "  <thead>\n",
       "    <tr style=\"text-align: right;\">\n",
       "      <th></th>\n",
       "      <th>word</th>\n",
       "      <th>sentiment</th>\n",
       "      <th>embedding</th>\n",
       "      <th>distances</th>\n",
       "    </tr>\n",
       "  </thead>\n",
       "  <tbody>\n",
       "    <tr>\n",
       "      <td>693</td>\n",
       "      <td>unforgettable</td>\n",
       "      <td>1</td>\n",
       "      <td>[0.14442679286003113, 0.3309657871723175, -0.6...</td>\n",
       "      <td>0.977411</td>\n",
       "    </tr>\n",
       "    <tr>\n",
       "      <td>750</td>\n",
       "      <td>wonderful</td>\n",
       "      <td>1</td>\n",
       "      <td>[-0.0015268155839294195, 0.18429306149482727, ...</td>\n",
       "      <td>0.978137</td>\n",
       "    </tr>\n",
       "    <tr>\n",
       "      <td>1585</td>\n",
       "      <td>amazing</td>\n",
       "      <td>1</td>\n",
       "      <td>[0.11927023530006409, 0.12507511675357819, -0....</td>\n",
       "      <td>0.978580</td>\n",
       "    </tr>\n",
       "    <tr>\n",
       "      <td>1719</td>\n",
       "      <td>cherished</td>\n",
       "      <td>1</td>\n",
       "      <td>[-0.16097693145275116, 0.26282617449760437, -0...</td>\n",
       "      <td>0.979344</td>\n",
       "    </tr>\n",
       "    <tr>\n",
       "      <td>2989</td>\n",
       "      <td>heartbreaking</td>\n",
       "      <td>-1</td>\n",
       "      <td>[0.145084947347641, -0.22929060459136963, -0.0...</td>\n",
       "      <td>0.979688</td>\n",
       "    </tr>\n",
       "    <tr>\n",
       "      <td>127</td>\n",
       "      <td>invigorating</td>\n",
       "      <td>1</td>\n",
       "      <td>[-0.048400264233350754, -0.10901805758476257, ...</td>\n",
       "      <td>0.980664</td>\n",
       "    </tr>\n",
       "    <tr>\n",
       "      <td>614</td>\n",
       "      <td>supremacy</td>\n",
       "      <td>1</td>\n",
       "      <td>[-0.022780627012252808, -0.4054063558578491, 0...</td>\n",
       "      <td>0.980765</td>\n",
       "    </tr>\n",
       "    <tr>\n",
       "      <td>1146</td>\n",
       "      <td>infuriated</td>\n",
       "      <td>-1</td>\n",
       "      <td>[0.18906188011169434, 0.0203684214502573, 0.02...</td>\n",
       "      <td>0.980860</td>\n",
       "    </tr>\n",
       "    <tr>\n",
       "      <td>2393</td>\n",
       "      <td>uncompromising</td>\n",
       "      <td>-1</td>\n",
       "      <td>[0.18212787806987762, 0.09921543300151825, -0....</td>\n",
       "      <td>0.980898</td>\n",
       "    </tr>\n",
       "    <tr>\n",
       "      <td>2044</td>\n",
       "      <td>gem</td>\n",
       "      <td>1</td>\n",
       "      <td>[0.1499810516834259, -0.1319105476140976, -0.4...</td>\n",
       "      <td>0.981081</td>\n",
       "    </tr>\n",
       "  </tbody>\n",
       "</table>\n",
       "</div>"
      ],
      "text/plain": [
       "                word  sentiment  \\\n",
       "693    unforgettable          1   \n",
       "750        wonderful          1   \n",
       "1585         amazing          1   \n",
       "1719       cherished          1   \n",
       "2989   heartbreaking         -1   \n",
       "127     invigorating          1   \n",
       "614        supremacy          1   \n",
       "1146      infuriated         -1   \n",
       "2393  uncompromising         -1   \n",
       "2044             gem          1   \n",
       "\n",
       "                                              embedding  distances  \n",
       "693   [0.14442679286003113, 0.3309657871723175, -0.6...   0.977411  \n",
       "750   [-0.0015268155839294195, 0.18429306149482727, ...   0.978137  \n",
       "1585  [0.11927023530006409, 0.12507511675357819, -0....   0.978580  \n",
       "1719  [-0.16097693145275116, 0.26282617449760437, -0...   0.979344  \n",
       "2989  [0.145084947347641, -0.22929060459136963, -0.0...   0.979688  \n",
       "127   [-0.048400264233350754, -0.10901805758476257, ...   0.980664  \n",
       "614   [-0.022780627012252808, -0.4054063558578491, 0...   0.980765  \n",
       "1146  [0.18906188011169434, 0.0203684214502573, 0.02...   0.980860  \n",
       "2393  [0.18212787806987762, 0.09921543300151825, -0....   0.980898  \n",
       "2044  [0.1499810516834259, -0.1319105476140976, -0.4...   0.981081  "
      ]
     },
     "execution_count": 124,
     "metadata": {},
     "output_type": "execute_result"
    }
   ],
   "source": [
    "sentiment_embedding.sort_values(by='distances')[:10]"
   ]
  },
  {
   "cell_type": "code",
   "execution_count": 125,
   "metadata": {},
   "outputs": [
    {
     "data": {
      "text/html": [
       "<div>\n",
       "<style scoped>\n",
       "    .dataframe tbody tr th:only-of-type {\n",
       "        vertical-align: middle;\n",
       "    }\n",
       "\n",
       "    .dataframe tbody tr th {\n",
       "        vertical-align: top;\n",
       "    }\n",
       "\n",
       "    .dataframe thead th {\n",
       "        text-align: right;\n",
       "    }\n",
       "</style>\n",
       "<table border=\"1\" class=\"dataframe\">\n",
       "  <thead>\n",
       "    <tr style=\"text-align: right;\">\n",
       "      <th></th>\n",
       "      <th>word</th>\n",
       "      <th>sentiment</th>\n",
       "      <th>embedding</th>\n",
       "      <th>distances</th>\n",
       "    </tr>\n",
       "  </thead>\n",
       "  <tbody>\n",
       "    <tr>\n",
       "      <td>3113</td>\n",
       "      <td>offensively</td>\n",
       "      <td>-1</td>\n",
       "      <td>[-0.045058559626340866, -0.1381933093070984, -...</td>\n",
       "      <td>1.024082</td>\n",
       "    </tr>\n",
       "    <tr>\n",
       "      <td>2126</td>\n",
       "      <td>squealing</td>\n",
       "      <td>-1</td>\n",
       "      <td>[0.0036858415696769953, -0.13834598660469055, ...</td>\n",
       "      <td>1.025084</td>\n",
       "    </tr>\n",
       "    <tr>\n",
       "      <td>1520</td>\n",
       "      <td>obnoxiously</td>\n",
       "      <td>-1</td>\n",
       "      <td>[0.06495609879493713, -0.25265371799468994, 0....</td>\n",
       "      <td>1.025451</td>\n",
       "    </tr>\n",
       "    <tr>\n",
       "      <td>3008</td>\n",
       "      <td>hideously</td>\n",
       "      <td>-1</td>\n",
       "      <td>[0.18653205037117004, -0.36071667075157166, -0...</td>\n",
       "      <td>1.025688</td>\n",
       "    </tr>\n",
       "    <tr>\n",
       "      <td>3193</td>\n",
       "      <td>pathetically</td>\n",
       "      <td>-1</td>\n",
       "      <td>[0.13030953705310822, -0.23664695024490356, -0...</td>\n",
       "      <td>1.026343</td>\n",
       "    </tr>\n",
       "    <tr>\n",
       "      <td>2217</td>\n",
       "      <td>substandard</td>\n",
       "      <td>-1</td>\n",
       "      <td>[0.24860963225364685, -0.19480064511299133, -0...</td>\n",
       "      <td>1.026813</td>\n",
       "    </tr>\n",
       "    <tr>\n",
       "      <td>2372</td>\n",
       "      <td>ugh</td>\n",
       "      <td>-1</td>\n",
       "      <td>[0.024805361405014992, -0.3277624547481537, 0....</td>\n",
       "      <td>1.026859</td>\n",
       "    </tr>\n",
       "    <tr>\n",
       "      <td>2629</td>\n",
       "      <td>dreadfully</td>\n",
       "      <td>-1</td>\n",
       "      <td>[-0.03835845738649368, -0.28790631890296936, -...</td>\n",
       "      <td>1.026892</td>\n",
       "    </tr>\n",
       "    <tr>\n",
       "      <td>1182</td>\n",
       "      <td>insultingly</td>\n",
       "      <td>-1</td>\n",
       "      <td>[0.017356403172016144, -0.3047421872615814, -0...</td>\n",
       "      <td>1.027150</td>\n",
       "    </tr>\n",
       "    <tr>\n",
       "      <td>3995</td>\n",
       "      <td>dismally</td>\n",
       "      <td>-1</td>\n",
       "      <td>[-0.23783385753631592, -0.21346889436244965, -...</td>\n",
       "      <td>1.030984</td>\n",
       "    </tr>\n",
       "  </tbody>\n",
       "</table>\n",
       "</div>"
      ],
      "text/plain": [
       "              word  sentiment  \\\n",
       "3113   offensively         -1   \n",
       "2126     squealing         -1   \n",
       "1520   obnoxiously         -1   \n",
       "3008     hideously         -1   \n",
       "3193  pathetically         -1   \n",
       "2217   substandard         -1   \n",
       "2372           ugh         -1   \n",
       "2629    dreadfully         -1   \n",
       "1182   insultingly         -1   \n",
       "3995      dismally         -1   \n",
       "\n",
       "                                              embedding  distances  \n",
       "3113  [-0.045058559626340866, -0.1381933093070984, -...   1.024082  \n",
       "2126  [0.0036858415696769953, -0.13834598660469055, ...   1.025084  \n",
       "1520  [0.06495609879493713, -0.25265371799468994, 0....   1.025451  \n",
       "3008  [0.18653205037117004, -0.36071667075157166, -0...   1.025688  \n",
       "3193  [0.13030953705310822, -0.23664695024490356, -0...   1.026343  \n",
       "2217  [0.24860963225364685, -0.19480064511299133, -0...   1.026813  \n",
       "2372  [0.024805361405014992, -0.3277624547481537, 0....   1.026859  \n",
       "2629  [-0.03835845738649368, -0.28790631890296936, -...   1.026892  \n",
       "1182  [0.017356403172016144, -0.3047421872615814, -0...   1.027150  \n",
       "3995  [-0.23783385753631592, -0.21346889436244965, -...   1.030984  "
      ]
     },
     "execution_count": 125,
     "metadata": {},
     "output_type": "execute_result"
    }
   ],
   "source": [
    "sentiment_embedding.sort_values(by='distances')[-10:]"
   ]
  },
  {
   "cell_type": "code",
   "execution_count": 127,
   "metadata": {},
   "outputs": [
    {
     "data": {
      "text/plain": [
       "-371.1756722881468"
      ]
     },
     "execution_count": 127,
     "metadata": {},
     "output_type": "execute_result"
    }
   ],
   "source": [
    "emb_mean = [np.mean(emb_samples_largeVar.numpy()[:, i]) for i in range(emb_samples_largeVar.numpy().shape[1])]\n",
    "emb_cov = np.cov([emb_samples_largeVar.numpy()[:, i] for i in range(emb_samples_largeVar.numpy().shape[1])])\n",
    "rv = multivariate_normal(emb_mean, emb_cov)\n",
    "np.mean([rv.logpdf(projection) for projection in emb_samples_largeVar.numpy()])"
   ]
  },
  {
   "cell_type": "code",
   "execution_count": 128,
   "metadata": {},
   "outputs": [],
   "source": [
    "emb_dictionary_df = {} \n",
    "emb_dictionary_df['words'] = []\n",
    "emb_dictionary_df['sentiment'] = []\n",
    "emb_dictionary_df['embeddings'] = []\n",
    "emb_dictionary_df['log-likelihood'] = []\n",
    "for sentiment in sentiment_df.values:\n",
    "    flag = False\n",
    "    try:\n",
    "        emb = w2v_dict[sentiment[0]]\n",
    "        flag = True\n",
    "    except KeyError:\n",
    "        flag = False\n",
    "    if flag:\n",
    "        emb_dictionary_df['words'].append(sentiment[0])\n",
    "        emb_dictionary_df['sentiment'].append(sentiment[1])\n",
    "        emb_dictionary_df['embeddings'].append(emb)\n",
    "        emb_dictionary_df['log-likelihood'].append(rv.logpdf(emb))\n",
    "        \n",
    "emb_dictionary_df = pd.DataFrame(emb_dictionary_df)"
   ]
  },
  {
   "cell_type": "code",
   "execution_count": 129,
   "metadata": {},
   "outputs": [],
   "source": [
    "table0 = pd.DataFrame(emb_dictionary_df.sort_values(by=['log-likelihood'],ascending=False)[['words', 'log-likelihood', 'sentiment']])"
   ]
  },
  {
   "cell_type": "code",
   "execution_count": 130,
   "metadata": {},
   "outputs": [
    {
     "data": {
      "text/html": [
       "<div>\n",
       "<style scoped>\n",
       "    .dataframe tbody tr th:only-of-type {\n",
       "        vertical-align: middle;\n",
       "    }\n",
       "\n",
       "    .dataframe tbody tr th {\n",
       "        vertical-align: top;\n",
       "    }\n",
       "\n",
       "    .dataframe thead th {\n",
       "        text-align: right;\n",
       "    }\n",
       "</style>\n",
       "<table border=\"1\" class=\"dataframe\">\n",
       "  <thead>\n",
       "    <tr style=\"text-align: right;\">\n",
       "      <th></th>\n",
       "      <th>words</th>\n",
       "      <th>log-likelihood</th>\n",
       "      <th>sentiment</th>\n",
       "    </tr>\n",
       "  </thead>\n",
       "  <tbody>\n",
       "    <tr>\n",
       "      <td>693</td>\n",
       "      <td>unforgettable</td>\n",
       "      <td>-321.405429</td>\n",
       "      <td>1</td>\n",
       "    </tr>\n",
       "    <tr>\n",
       "      <td>614</td>\n",
       "      <td>supremacy</td>\n",
       "      <td>-321.414515</td>\n",
       "      <td>1</td>\n",
       "    </tr>\n",
       "    <tr>\n",
       "      <td>750</td>\n",
       "      <td>wonderful</td>\n",
       "      <td>-321.416395</td>\n",
       "      <td>1</td>\n",
       "    </tr>\n",
       "    <tr>\n",
       "      <td>2989</td>\n",
       "      <td>heartbreaking</td>\n",
       "      <td>-321.418862</td>\n",
       "      <td>-1</td>\n",
       "    </tr>\n",
       "    <tr>\n",
       "      <td>2044</td>\n",
       "      <td>gem</td>\n",
       "      <td>-321.420784</td>\n",
       "      <td>1</td>\n",
       "    </tr>\n",
       "    <tr>\n",
       "      <td>1585</td>\n",
       "      <td>amazing</td>\n",
       "      <td>-321.421371</td>\n",
       "      <td>1</td>\n",
       "    </tr>\n",
       "    <tr>\n",
       "      <td>1816</td>\n",
       "      <td>delightful</td>\n",
       "      <td>-321.424125</td>\n",
       "      <td>1</td>\n",
       "    </tr>\n",
       "    <tr>\n",
       "      <td>2393</td>\n",
       "      <td>uncompromising</td>\n",
       "      <td>-321.425067</td>\n",
       "      <td>-1</td>\n",
       "    </tr>\n",
       "    <tr>\n",
       "      <td>1719</td>\n",
       "      <td>cherished</td>\n",
       "      <td>-321.425115</td>\n",
       "      <td>1</td>\n",
       "    </tr>\n",
       "    <tr>\n",
       "      <td>1989</td>\n",
       "      <td>favorite</td>\n",
       "      <td>-321.425828</td>\n",
       "      <td>1</td>\n",
       "    </tr>\n",
       "  </tbody>\n",
       "</table>\n",
       "</div>"
      ],
      "text/plain": [
       "               words  log-likelihood  sentiment\n",
       "693    unforgettable     -321.405429          1\n",
       "614        supremacy     -321.414515          1\n",
       "750        wonderful     -321.416395          1\n",
       "2989   heartbreaking     -321.418862         -1\n",
       "2044             gem     -321.420784          1\n",
       "1585         amazing     -321.421371          1\n",
       "1816      delightful     -321.424125          1\n",
       "2393  uncompromising     -321.425067         -1\n",
       "1719       cherished     -321.425115          1\n",
       "1989        favorite     -321.425828          1"
      ]
     },
     "execution_count": 130,
     "metadata": {},
     "output_type": "execute_result"
    }
   ],
   "source": [
    "table0[:10]"
   ]
  },
  {
   "cell_type": "code",
   "execution_count": 131,
   "metadata": {
    "scrolled": false
   },
   "outputs": [
    {
     "data": {
      "text/html": [
       "<div>\n",
       "<style scoped>\n",
       "    .dataframe tbody tr th:only-of-type {\n",
       "        vertical-align: middle;\n",
       "    }\n",
       "\n",
       "    .dataframe tbody tr th {\n",
       "        vertical-align: top;\n",
       "    }\n",
       "\n",
       "    .dataframe thead th {\n",
       "        text-align: right;\n",
       "    }\n",
       "</style>\n",
       "<table border=\"1\" class=\"dataframe\">\n",
       "  <thead>\n",
       "    <tr style=\"text-align: right;\">\n",
       "      <th></th>\n",
       "      <th>words</th>\n",
       "      <th>log-likelihood</th>\n",
       "      <th>sentiment</th>\n",
       "    </tr>\n",
       "  </thead>\n",
       "  <tbody>\n",
       "    <tr>\n",
       "      <td>3021</td>\n",
       "      <td>horrid</td>\n",
       "      <td>-321.593497</td>\n",
       "      <td>-1</td>\n",
       "    </tr>\n",
       "    <tr>\n",
       "      <td>3268</td>\n",
       "      <td>pretentious</td>\n",
       "      <td>-321.593615</td>\n",
       "      <td>-1</td>\n",
       "    </tr>\n",
       "    <tr>\n",
       "      <td>2700</td>\n",
       "      <td>excruciatingly</td>\n",
       "      <td>-321.593787</td>\n",
       "      <td>-1</td>\n",
       "    </tr>\n",
       "    <tr>\n",
       "      <td>1093</td>\n",
       "      <td>incoherent</td>\n",
       "      <td>-321.593881</td>\n",
       "      <td>-1</td>\n",
       "    </tr>\n",
       "    <tr>\n",
       "      <td>94</td>\n",
       "      <td>indulgent</td>\n",
       "      <td>-321.598907</td>\n",
       "      <td>1</td>\n",
       "    </tr>\n",
       "    <tr>\n",
       "      <td>1152</td>\n",
       "      <td>injury</td>\n",
       "      <td>-321.601311</td>\n",
       "      <td>-1</td>\n",
       "    </tr>\n",
       "    <tr>\n",
       "      <td>2557</td>\n",
       "      <td>waste</td>\n",
       "      <td>-321.609846</td>\n",
       "      <td>-1</td>\n",
       "    </tr>\n",
       "    <tr>\n",
       "      <td>409</td>\n",
       "      <td>redeeming</td>\n",
       "      <td>-321.632039</td>\n",
       "      <td>1</td>\n",
       "    </tr>\n",
       "    <tr>\n",
       "      <td>1407</td>\n",
       "      <td>miserably</td>\n",
       "      <td>-321.640916</td>\n",
       "      <td>-1</td>\n",
       "    </tr>\n",
       "    <tr>\n",
       "      <td>963</td>\n",
       "      <td>blah</td>\n",
       "      <td>-321.677011</td>\n",
       "      <td>-1</td>\n",
       "    </tr>\n",
       "  </tbody>\n",
       "</table>\n",
       "</div>"
      ],
      "text/plain": [
       "               words  log-likelihood  sentiment\n",
       "3021          horrid     -321.593497         -1\n",
       "3268     pretentious     -321.593615         -1\n",
       "2700  excruciatingly     -321.593787         -1\n",
       "1093      incoherent     -321.593881         -1\n",
       "94         indulgent     -321.598907          1\n",
       "1152          injury     -321.601311         -1\n",
       "2557           waste     -321.609846         -1\n",
       "409        redeeming     -321.632039          1\n",
       "1407       miserably     -321.640916         -1\n",
       "963             blah     -321.677011         -1"
      ]
     },
     "execution_count": 131,
     "metadata": {},
     "output_type": "execute_result"
    }
   ],
   "source": [
    "table0[-10:]"
   ]
  },
  {
   "cell_type": "markdown",
   "metadata": {},
   "source": [
    "### Validating"
   ]
  },
  {
   "cell_type": "code",
   "execution_count": 136,
   "metadata": {},
   "outputs": [],
   "source": [
    "from sklearn.decomposition import PCA"
   ]
  },
  {
   "cell_type": "code",
   "execution_count": 137,
   "metadata": {
    "scrolled": true
   },
   "outputs": [
    {
     "data": {
      "text/plain": [
       "PCA(copy=True, iterated_power='auto', n_components=2, random_state=None,\n",
       "    svd_solver='auto', tol=0.0, whiten=False)"
      ]
     },
     "execution_count": 137,
     "metadata": {},
     "output_type": "execute_result"
    }
   ],
   "source": [
    "positive_sample_pca = PCA(n_components=2)\n",
    "positive_sample_pca.fit(emb_samples_largeVar.numpy())"
   ]
  },
  {
   "cell_type": "code",
   "execution_count": 138,
   "metadata": {},
   "outputs": [],
   "source": [
    "positive_pca_projection = positive_sample_pca.transform(emb_samples_largeVar.numpy())"
   ]
  },
  {
   "cell_type": "code",
   "execution_count": 139,
   "metadata": {},
   "outputs": [
    {
     "data": {
      "text/plain": [
       "(10000, 2)"
      ]
     },
     "execution_count": 139,
     "metadata": {},
     "output_type": "execute_result"
    }
   ],
   "source": [
    "positive_pca_projection.shape"
   ]
  },
  {
   "cell_type": "code",
   "execution_count": 140,
   "metadata": {},
   "outputs": [
    {
     "data": {
      "image/png": "[encoded data removed]",
      "text/plain": [
       "<Figure size 432x288 with 1 Axes>"
      ]
     },
     "metadata": {
      "needs_background": "light"
     },
     "output_type": "display_data"
    }
   ],
   "source": [
    "plt.hist2d(x = positive_pca_projection[:, 0], y = positive_pca_projection[:, 1], bins = 50);"
   ]
  },
  {
   "cell_type": "code",
   "execution_count": 141,
   "metadata": {},
   "outputs": [],
   "source": [
    "positive_dict = [] \n",
    "for word in sentiment_df[sentiment_df['sentiment'] == 1]['word'].values:\n",
    "    flag = False\n",
    "    try:\n",
    "        emb = w2v_dict[word]\n",
    "        flag = True\n",
    "    except KeyError:\n",
    "        flag = False\n",
    "    if flag:\n",
    "        positive_dict.append([np.dot((w2v_dict[word] - positive_sample_pca.mean_), positive_sample_pca.components_[0]), np.dot((w2v_dict[word] - positive_sample_pca.mean_), positive_sample_pca.components_[1])])\n",
    "        \n",
    "positive_dict = np.array(positive_dict)"
   ]
  },
  {
   "cell_type": "code",
   "execution_count": 142,
   "metadata": {},
   "outputs": [],
   "source": [
    "negative_dict = [] \n",
    "for word in sentiment_df[sentiment_df['sentiment'] == -1]['word'].values:\n",
    "    flag = False\n",
    "    try:\n",
    "        emb = w2v_dict[word]\n",
    "        flag = True\n",
    "    except KeyError:\n",
    "        flag = False\n",
    "    if flag:\n",
    "        negative_dict.append([np.dot((w2v_dict[word] - positive_sample_pca.mean_), positive_sample_pca.components_[0]), np.dot((w2v_dict[word] - positive_sample_pca.mean_), positive_sample_pca.components_[1])])\n",
    "        \n",
    "negative_dict = np.array(negative_dict)"
   ]
  },
  {
   "cell_type": "code",
   "execution_count": 143,
   "metadata": {
    "scrolled": false
   },
   "outputs": [
    {
     "data": {
      "image/png": "[encoded data removed]",
      "text/plain": [
       "<Figure size 432x288 with 1 Axes>"
      ]
     },
     "metadata": {
      "needs_background": "light"
     },
     "output_type": "display_data"
    }
   ],
   "source": [
    "plt.hist2d(x = negative_dict[:, 0], y = negative_dict[:, 1], bins = 80);"
   ]
  },
  {
   "cell_type": "code",
   "execution_count": 144,
   "metadata": {},
   "outputs": [
    {
     "data": {
      "image/png": "[encoded data removed]",
      "text/plain": [
       "<Figure size 432x288 with 1 Axes>"
      ]
     },
     "metadata": {
      "needs_background": "light"
     },
     "output_type": "display_data"
    }
   ],
   "source": [
    "plt.hist2d(x = positive_dict[:, 0], y = positive_dict[:, 1], bins = 80);"
   ]
  },
  {
   "cell_type": "code",
   "execution_count": null,
   "metadata": {},
   "outputs": [],
   "source": []
  },
  {
   "cell_type": "code",
   "execution_count": null,
   "metadata": {},
   "outputs": [],
   "source": []
  },
  {
   "cell_type": "markdown",
   "metadata": {},
   "source": [
    "### Loading the EEC dataset"
   ]
  },
  {
   "cell_type": "code",
   "execution_count": 145,
   "metadata": {},
   "outputs": [],
   "source": [
    "eec_df = pd.read_csv('./Equity-Evaluation-Corpus.csv')"
   ]
  },
  {
   "cell_type": "code",
   "execution_count": 146,
   "metadata": {},
   "outputs": [
    {
     "data": {
      "text/html": [
       "<div>\n",
       "<style scoped>\n",
       "    .dataframe tbody tr th:only-of-type {\n",
       "        vertical-align: middle;\n",
       "    }\n",
       "\n",
       "    .dataframe tbody tr th {\n",
       "        vertical-align: top;\n",
       "    }\n",
       "\n",
       "    .dataframe thead th {\n",
       "        text-align: right;\n",
       "    }\n",
       "</style>\n",
       "<table border=\"1\" class=\"dataframe\">\n",
       "  <thead>\n",
       "    <tr style=\"text-align: right;\">\n",
       "      <th></th>\n",
       "      <th>ID</th>\n",
       "      <th>Sentence</th>\n",
       "      <th>Template</th>\n",
       "      <th>Person</th>\n",
       "      <th>Gender</th>\n",
       "      <th>Race</th>\n",
       "      <th>Emotion</th>\n",
       "      <th>Emotion word</th>\n",
       "    </tr>\n",
       "  </thead>\n",
       "  <tbody>\n",
       "    <tr>\n",
       "      <td>0</td>\n",
       "      <td>2018-En-mystery-05498</td>\n",
       "      <td>Alonzo feels angry.</td>\n",
       "      <td>&lt;person subject&gt; feels &lt;emotion word&gt;.</td>\n",
       "      <td>Alonzo</td>\n",
       "      <td>male</td>\n",
       "      <td>African-American</td>\n",
       "      <td>anger</td>\n",
       "      <td>angry</td>\n",
       "    </tr>\n",
       "    <tr>\n",
       "      <td>1</td>\n",
       "      <td>2018-En-mystery-11722</td>\n",
       "      <td>Alonzo feels furious.</td>\n",
       "      <td>&lt;person subject&gt; feels &lt;emotion word&gt;.</td>\n",
       "      <td>Alonzo</td>\n",
       "      <td>male</td>\n",
       "      <td>African-American</td>\n",
       "      <td>anger</td>\n",
       "      <td>furious</td>\n",
       "    </tr>\n",
       "    <tr>\n",
       "      <td>2</td>\n",
       "      <td>2018-En-mystery-11364</td>\n",
       "      <td>Alonzo feels irritated.</td>\n",
       "      <td>&lt;person subject&gt; feels &lt;emotion word&gt;.</td>\n",
       "      <td>Alonzo</td>\n",
       "      <td>male</td>\n",
       "      <td>African-American</td>\n",
       "      <td>anger</td>\n",
       "      <td>irritated</td>\n",
       "    </tr>\n",
       "    <tr>\n",
       "      <td>3</td>\n",
       "      <td>2018-En-mystery-14320</td>\n",
       "      <td>Alonzo feels enraged.</td>\n",
       "      <td>&lt;person subject&gt; feels &lt;emotion word&gt;.</td>\n",
       "      <td>Alonzo</td>\n",
       "      <td>male</td>\n",
       "      <td>African-American</td>\n",
       "      <td>anger</td>\n",
       "      <td>enraged</td>\n",
       "    </tr>\n",
       "    <tr>\n",
       "      <td>4</td>\n",
       "      <td>2018-En-mystery-14114</td>\n",
       "      <td>Alonzo feels annoyed.</td>\n",
       "      <td>&lt;person subject&gt; feels &lt;emotion word&gt;.</td>\n",
       "      <td>Alonzo</td>\n",
       "      <td>male</td>\n",
       "      <td>African-American</td>\n",
       "      <td>anger</td>\n",
       "      <td>annoyed</td>\n",
       "    </tr>\n",
       "  </tbody>\n",
       "</table>\n",
       "</div>"
      ],
      "text/plain": [
       "                      ID                 Sentence  \\\n",
       "0  2018-En-mystery-05498      Alonzo feels angry.   \n",
       "1  2018-En-mystery-11722    Alonzo feels furious.   \n",
       "2  2018-En-mystery-11364  Alonzo feels irritated.   \n",
       "3  2018-En-mystery-14320    Alonzo feels enraged.   \n",
       "4  2018-En-mystery-14114    Alonzo feels annoyed.   \n",
       "\n",
       "                                 Template  Person Gender              Race  \\\n",
       "0  <person subject> feels <emotion word>.  Alonzo   male  African-American   \n",
       "1  <person subject> feels <emotion word>.  Alonzo   male  African-American   \n",
       "2  <person subject> feels <emotion word>.  Alonzo   male  African-American   \n",
       "3  <person subject> feels <emotion word>.  Alonzo   male  African-American   \n",
       "4  <person subject> feels <emotion word>.  Alonzo   male  African-American   \n",
       "\n",
       "  Emotion Emotion word  \n",
       "0   anger        angry  \n",
       "1   anger      furious  \n",
       "2   anger    irritated  \n",
       "3   anger      enraged  \n",
       "4   anger      annoyed  "
      ]
     },
     "execution_count": 146,
     "metadata": {},
     "output_type": "execute_result"
    }
   ],
   "source": [
    "eec_df.head()"
   ]
  },
  {
   "cell_type": "code",
   "execution_count": 147,
   "metadata": {},
   "outputs": [],
   "source": [
    "spark_eec = spark.read.format(\"csv\").options(header=\"true\").load(\"./Equity-Evaluation-Corpus.csv\")"
   ]
  },
  {
   "cell_type": "code",
   "execution_count": 149,
   "metadata": {},
   "outputs": [],
   "source": [
    "Names = np.unique(eec_df['Person'].values)\n",
    "Gender = np.unique(eec_df['Gender'].values)\n",
    "Race = np.unique([race for race in eec_df['Race'].values if race != None])\n",
    "Emotion = np.unique([emo for emo in eec_df['Emotion'].values if emo != None])\n",
    "Emotion_word = np.unique([emo for emo in eec_df['Emotion word'].values if emo != None])"
   ]
  },
  {
   "cell_type": "code",
   "execution_count": 150,
   "metadata": {},
   "outputs": [],
   "source": [
    "eec2vec = sentence2vec.transform(spark_eec.select(fn.col('Sentence').alias('review'), 'Person', 'Gender', 'Race', 'Emotion'))"
   ]
  },
  {
   "cell_type": "code",
   "execution_count": 151,
   "metadata": {},
   "outputs": [],
   "source": [
    "eec2vec = eec2vec.toPandas()"
   ]
  },
  {
   "cell_type": "code",
   "execution_count": 152,
   "metadata": {},
   "outputs": [],
   "source": [
    "for i in range(eec2vec.shape[0]):\n",
    "    eec2vec.loc[i]['w2v'] = eec2vec.loc[i]['w2v'].values"
   ]
  },
  {
   "cell_type": "code",
   "execution_count": 153,
   "metadata": {
    "scrolled": true
   },
   "outputs": [
    {
     "data": {
      "text/html": [
       "<div>\n",
       "<style scoped>\n",
       "    .dataframe tbody tr th:only-of-type {\n",
       "        vertical-align: middle;\n",
       "    }\n",
       "\n",
       "    .dataframe tbody tr th {\n",
       "        vertical-align: top;\n",
       "    }\n",
       "\n",
       "    .dataframe thead th {\n",
       "        text-align: right;\n",
       "    }\n",
       "</style>\n",
       "<table border=\"1\" class=\"dataframe\">\n",
       "  <thead>\n",
       "    <tr style=\"text-align: right;\">\n",
       "      <th></th>\n",
       "      <th>review</th>\n",
       "      <th>Person</th>\n",
       "      <th>Gender</th>\n",
       "      <th>Race</th>\n",
       "      <th>Emotion</th>\n",
       "      <th>words</th>\n",
       "      <th>w2v</th>\n",
       "    </tr>\n",
       "  </thead>\n",
       "  <tbody>\n",
       "    <tr>\n",
       "      <td>0</td>\n",
       "      <td>Alonzo feels angry.</td>\n",
       "      <td>Alonzo</td>\n",
       "      <td>male</td>\n",
       "      <td>African-American</td>\n",
       "      <td>anger</td>\n",
       "      <td>[alonzo, feels, angry]</td>\n",
       "      <td>[-0.019689195478955902, -0.060500080386797585,...</td>\n",
       "    </tr>\n",
       "    <tr>\n",
       "      <td>1</td>\n",
       "      <td>Alonzo feels furious.</td>\n",
       "      <td>Alonzo</td>\n",
       "      <td>male</td>\n",
       "      <td>African-American</td>\n",
       "      <td>anger</td>\n",
       "      <td>[alonzo, feels, furious]</td>\n",
       "      <td>[-0.014902535205086071, -0.12798841297626495, ...</td>\n",
       "    </tr>\n",
       "    <tr>\n",
       "      <td>2</td>\n",
       "      <td>Alonzo feels irritated.</td>\n",
       "      <td>Alonzo</td>\n",
       "      <td>male</td>\n",
       "      <td>African-American</td>\n",
       "      <td>anger</td>\n",
       "      <td>[alonzo, feels, irritated]</td>\n",
       "      <td>[-0.04984642130633195, -0.14080162346363068, -...</td>\n",
       "    </tr>\n",
       "    <tr>\n",
       "      <td>3</td>\n",
       "      <td>Alonzo feels enraged.</td>\n",
       "      <td>Alonzo</td>\n",
       "      <td>male</td>\n",
       "      <td>African-American</td>\n",
       "      <td>anger</td>\n",
       "      <td>[alonzo, feels, enraged]</td>\n",
       "      <td>[0.014770370597640673, -0.03619461258252461, -...</td>\n",
       "    </tr>\n",
       "    <tr>\n",
       "      <td>4</td>\n",
       "      <td>Alonzo feels annoyed.</td>\n",
       "      <td>Alonzo</td>\n",
       "      <td>male</td>\n",
       "      <td>African-American</td>\n",
       "      <td>anger</td>\n",
       "      <td>[alonzo, feels, annoyed]</td>\n",
       "      <td>[-0.06823695761462052, -0.0657951682806015, -0...</td>\n",
       "    </tr>\n",
       "  </tbody>\n",
       "</table>\n",
       "</div>"
      ],
      "text/plain": [
       "                    review  Person Gender              Race Emotion  \\\n",
       "0      Alonzo feels angry.  Alonzo   male  African-American   anger   \n",
       "1    Alonzo feels furious.  Alonzo   male  African-American   anger   \n",
       "2  Alonzo feels irritated.  Alonzo   male  African-American   anger   \n",
       "3    Alonzo feels enraged.  Alonzo   male  African-American   anger   \n",
       "4    Alonzo feels annoyed.  Alonzo   male  African-American   anger   \n",
       "\n",
       "                        words  \\\n",
       "0      [alonzo, feels, angry]   \n",
       "1    [alonzo, feels, furious]   \n",
       "2  [alonzo, feels, irritated]   \n",
       "3    [alonzo, feels, enraged]   \n",
       "4    [alonzo, feels, annoyed]   \n",
       "\n",
       "                                                 w2v  \n",
       "0  [-0.019689195478955902, -0.060500080386797585,...  \n",
       "1  [-0.014902535205086071, -0.12798841297626495, ...  \n",
       "2  [-0.04984642130633195, -0.14080162346363068, -...  \n",
       "3  [0.014770370597640673, -0.03619461258252461, -...  \n",
       "4  [-0.06823695761462052, -0.0657951682806015, -0...  "
      ]
     },
     "execution_count": 153,
     "metadata": {},
     "output_type": "execute_result"
    }
   ],
   "source": [
    "eec2vec.head()"
   ]
  },
  {
   "cell_type": "code",
   "execution_count": 154,
   "metadata": {},
   "outputs": [],
   "source": [
    "def get_eec(person = False, gender = False, race = False, emotion = False, word = False):\n",
    "    flag = False\n",
    "    if person != False:\n",
    "        df = eec2vec[eec2vec['Person'] == person]\n",
    "        flag = True\n",
    "    if gender != False:\n",
    "        if flag != False:\n",
    "            df = df[df['Gender'] == gender]\n",
    "        else:\n",
    "            df = eec2vec[eec2vec['Gender'] == gender]\n",
    "            flag = True\n",
    "    if race != False:\n",
    "        if flag != False:\n",
    "            df = df[df['Race'] == race]\n",
    "        else:\n",
    "            df = eec2vec[eec2vec['Race'] == race]\n",
    "            flag = True\n",
    "    if emotion != False:\n",
    "        if flag != False:\n",
    "            df = df[df['Emotion'] == emotion]\n",
    "        else:\n",
    "            df = eec2vec[eec2vec['Emotion'] == emotion]\n",
    "            flag = True\n",
    "    if word != False:\n",
    "        if flag != False:\n",
    "            df = df[df['Emotion word'] == word]\n",
    "        else:\n",
    "            df = eec2vec[eec2vec['Emotion word'] == word]\n",
    "            flag = True\n",
    "    if (person == False) & (gender == False) & (race == False) & (emotion == False) & (word == False):\n",
    "        return eec2vec['w2v']\n",
    "    return df['w2v']"
   ]
  },
  {
   "cell_type": "code",
   "execution_count": 155,
   "metadata": {},
   "outputs": [],
   "source": [
    "import ast"
   ]
  },
  {
   "cell_type": "code",
   "execution_count": 156,
   "metadata": {},
   "outputs": [],
   "source": [
    "def from_np_array(array_string):\n",
    "    array_string = ','.join(array_string.replace('[ ', '[').split())\n",
    "    return np.array(ast.literal_eval(array_string))"
   ]
  },
  {
   "cell_type": "code",
   "execution_count": 157,
   "metadata": {},
   "outputs": [],
   "source": [
    "eec2vec.to_csv('./eec2vec.csv')"
   ]
  },
  {
   "cell_type": "code",
   "execution_count": 158,
   "metadata": {},
   "outputs": [],
   "source": [
    "male_names = [name.lower() for name in np.unique(eec[eec['Gender'] == 'male']['Person'].values)]"
   ]
  },
  {
   "cell_type": "code",
   "execution_count": 160,
   "metadata": {},
   "outputs": [],
   "source": [
    "female_names = [name.lower() for name in np.unique(eec[eec['Gender'] == 'female']['Person'].values)]"
   ]
  },
  {
   "cell_type": "code",
   "execution_count": 161,
   "metadata": {},
   "outputs": [],
   "source": [
    "gender_distances_df = {}\n",
    "gender_distances_df['name'] = []\n",
    "gender_distances_df['gender'] = []\n",
    "gender_distances_df['embeddings'] = []\n",
    "gender_distances_df['distances_GivenPos'] = []\n",
    "gender_distances_df['distances_GivenNeg'] = []\n",
    "for man in male_names:\n",
    "    flag = False\n",
    "    try:\n",
    "        emb = w2v_dict[man]\n",
    "        flag = True\n",
    "    except KeyError:\n",
    "        flag = False\n",
    "    if flag:\n",
    "        gender_distances_df['gender'].append(1.0)\n",
    "        gender_distances_df['name'].append(man)\n",
    "        gender_distances_df['embeddings'].append(emb)\n",
    "        gender_distances_df['distances_GivenPos'].append(np.mean(cdist(emb_samples_largeVar.detach().numpy(), emb.reshape(1, -1), metric='cosine')))\n",
    "        gender_distances_df['distances_GivenNeg'].append(np.mean(cdist(emb_samples_largeVar_GivenNeg.detach().numpy(), emb.reshape(1, -1), metric='cosine')))\n",
    "    \n",
    "for woman in female_names:\n",
    "    flag = False\n",
    "    try:\n",
    "        emb = w2v_dict[woman]\n",
    "        flag = True\n",
    "    except KeyError:\n",
    "        flag = False\n",
    "    if flag:\n",
    "        gender_distances_df['gender'].append(-1.0)\n",
    "        gender_distances_df['name'].append(woman)\n",
    "        gender_distances_df['embeddings'].append(emb)\n",
    "        gender_distances_df['distances_GivenPos'].append(np.mean(cdist(emb_samples_largeVar.detach().numpy(), emb.reshape(1, -1), metric='cosine')))\n",
    "        gender_distances_df['distances_GivenNeg'].append(np.mean(cdist(emb_samples_largeVar_GivenNeg.detach().numpy(), emb.reshape(1, -1), metric='cosine')))\n",
    "\n",
    "gender_distances_df = pd.DataFrame(gender_distances_df)"
   ]
  },
  {
   "cell_type": "code",
   "execution_count": 162,
   "metadata": {},
   "outputs": [
    {
     "data": {
      "text/html": [
       "<div>\n",
       "<style scoped>\n",
       "    .dataframe tbody tr th:only-of-type {\n",
       "        vertical-align: middle;\n",
       "    }\n",
       "\n",
       "    .dataframe tbody tr th {\n",
       "        vertical-align: top;\n",
       "    }\n",
       "\n",
       "    .dataframe thead th {\n",
       "        text-align: right;\n",
       "    }\n",
       "</style>\n",
       "<table border=\"1\" class=\"dataframe\">\n",
       "  <thead>\n",
       "    <tr style=\"text-align: right;\">\n",
       "      <th></th>\n",
       "      <th>name</th>\n",
       "      <th>gender</th>\n",
       "      <th>embeddings</th>\n",
       "      <th>distances_GivenPos</th>\n",
       "      <th>distances_GivenNeg</th>\n",
       "    </tr>\n",
       "  </thead>\n",
       "  <tbody>\n",
       "    <tr>\n",
       "      <td>0</td>\n",
       "      <td>adam</td>\n",
       "      <td>1.0</td>\n",
       "      <td>[-0.6852840185165405, 0.03809604048728943, 0.1...</td>\n",
       "      <td>0.997957</td>\n",
       "      <td>1.002851</td>\n",
       "    </tr>\n",
       "    <tr>\n",
       "      <td>1</td>\n",
       "      <td>alan</td>\n",
       "      <td>1.0</td>\n",
       "      <td>[-0.14613071084022522, 0.14654093980789185, -0...</td>\n",
       "      <td>0.999164</td>\n",
       "      <td>0.999940</td>\n",
       "    </tr>\n",
       "    <tr>\n",
       "      <td>2</td>\n",
       "      <td>alonzo</td>\n",
       "      <td>1.0</td>\n",
       "      <td>[0.026881061494350433, 0.1803232878446579, -0....</td>\n",
       "      <td>0.997503</td>\n",
       "      <td>1.002716</td>\n",
       "    </tr>\n",
       "    <tr>\n",
       "      <td>3</td>\n",
       "      <td>alphonse</td>\n",
       "      <td>1.0</td>\n",
       "      <td>[0.10859247297048569, 0.17322281002998352, -0....</td>\n",
       "      <td>0.993351</td>\n",
       "      <td>1.008537</td>\n",
       "    </tr>\n",
       "    <tr>\n",
       "      <td>4</td>\n",
       "      <td>andrew</td>\n",
       "      <td>1.0</td>\n",
       "      <td>[-0.37180769443511963, 0.042230330407619476, -...</td>\n",
       "      <td>0.998472</td>\n",
       "      <td>1.002787</td>\n",
       "    </tr>\n",
       "  </tbody>\n",
       "</table>\n",
       "</div>"
      ],
      "text/plain": [
       "       name  gender                                         embeddings  \\\n",
       "0      adam     1.0  [-0.6852840185165405, 0.03809604048728943, 0.1...   \n",
       "1      alan     1.0  [-0.14613071084022522, 0.14654093980789185, -0...   \n",
       "2    alonzo     1.0  [0.026881061494350433, 0.1803232878446579, -0....   \n",
       "3  alphonse     1.0  [0.10859247297048569, 0.17322281002998352, -0....   \n",
       "4    andrew     1.0  [-0.37180769443511963, 0.042230330407619476, -...   \n",
       "\n",
       "   distances_GivenPos  distances_GivenNeg  \n",
       "0            0.997957            1.002851  \n",
       "1            0.999164            0.999940  \n",
       "2            0.997503            1.002716  \n",
       "3            0.993351            1.008537  \n",
       "4            0.998472            1.002787  "
      ]
     },
     "execution_count": 162,
     "metadata": {},
     "output_type": "execute_result"
    }
   ],
   "source": [
    "gender_distances_df.head()"
   ]
  },
  {
   "cell_type": "code",
   "execution_count": 163,
   "metadata": {},
   "outputs": [
    {
     "data": {
      "text/html": [
       "<div>\n",
       "<style scoped>\n",
       "    .dataframe tbody tr th:only-of-type {\n",
       "        vertical-align: middle;\n",
       "    }\n",
       "\n",
       "    .dataframe tbody tr th {\n",
       "        vertical-align: top;\n",
       "    }\n",
       "\n",
       "    .dataframe thead th {\n",
       "        text-align: right;\n",
       "    }\n",
       "</style>\n",
       "<table border=\"1\" class=\"dataframe\">\n",
       "  <thead>\n",
       "    <tr style=\"text-align: right;\">\n",
       "      <th></th>\n",
       "      <th>distances_GivenPos</th>\n",
       "      <th>distances_GivenNeg</th>\n",
       "    </tr>\n",
       "    <tr>\n",
       "      <th>gender</th>\n",
       "      <th></th>\n",
       "      <th></th>\n",
       "    </tr>\n",
       "  </thead>\n",
       "  <tbody>\n",
       "    <tr>\n",
       "      <td>-1.0</td>\n",
       "      <td>1.001747</td>\n",
       "      <td>0.997181</td>\n",
       "    </tr>\n",
       "    <tr>\n",
       "      <td>1.0</td>\n",
       "      <td>0.998778</td>\n",
       "      <td>1.001024</td>\n",
       "    </tr>\n",
       "  </tbody>\n",
       "</table>\n",
       "</div>"
      ],
      "text/plain": [
       "        distances_GivenPos  distances_GivenNeg\n",
       "gender                                        \n",
       "-1.0              1.001747            0.997181\n",
       " 1.0              0.998778            1.001024"
      ]
     },
     "execution_count": 163,
     "metadata": {},
     "output_type": "execute_result"
    }
   ],
   "source": [
    "gender_distances_df.groupby(['gender']).mean()"
   ]
  },
  {
   "cell_type": "code",
   "execution_count": null,
   "metadata": {},
   "outputs": [],
   "source": []
  }
 ],
 "metadata": {
  "kernelspec": {
   "display_name": "Python 3",
   "language": "python",
   "name": "python3"
  },
  "language_info": {
   "codemirror_mode": {
    "name": "ipython",
    "version": 3
   },
   "file_extension": ".py",
   "mimetype": "text/x-python",
   "name": "python",
   "nbconvert_exporter": "python",
   "pygments_lexer": "ipython3",
   "version": "3.7.3"
  }
 },
 "nbformat": 4,
 "nbformat_minor": 2
}
